{
 "cells": [
  {
   "cell_type": "code",
   "execution_count": 333,
   "metadata": {},
   "outputs": [],
   "source": [
    "import seaborn as sns\n",
    "import matplotlib.pyplot as plt\n",
    "import numpy as np\n",
    "import os\n",
    "import pandas as pd"
   ]
  },
  {
   "cell_type": "code",
   "execution_count": 334,
   "metadata": {},
   "outputs": [],
   "source": [
    "from matplotlib import rcParams\n",
    "rcParams[\"figure.figsize\"] = 20, 6\n",
    "sns.set(font_scale=1.5)"
   ]
  },
  {
   "cell_type": "code",
   "execution_count": 335,
   "metadata": {},
   "outputs": [
    {
     "data": {
      "text/html": [
       "<div>\n",
       "<style scoped>\n",
       "    .dataframe tbody tr th:only-of-type {\n",
       "        vertical-align: middle;\n",
       "    }\n",
       "\n",
       "    .dataframe tbody tr th {\n",
       "        vertical-align: top;\n",
       "    }\n",
       "\n",
       "    .dataframe thead th {\n",
       "        text-align: right;\n",
       "    }\n",
       "</style>\n",
       "<table border=\"1\" class=\"dataframe\">\n",
       "  <thead>\n",
       "    <tr style=\"text-align: right;\">\n",
       "      <th></th>\n",
       "      <th>name</th>\n",
       "      <th>year</th>\n",
       "      <th>mileage</th>\n",
       "      <th>engine_power_kW</th>\n",
       "      <th>engine_power_hp</th>\n",
       "      <th>fuel</th>\n",
       "      <th>consumption</th>\n",
       "      <th>ecology</th>\n",
       "      <th>gearbox</th>\n",
       "      <th>price</th>\n",
       "      <th>currency</th>\n",
       "      <th>country</th>\n",
       "      <th>capacity</th>\n",
       "      <th>other</th>\n",
       "      <th>engine_size</th>\n",
       "      <th>nr_of_accidents</th>\n",
       "      <th>color_exterior</th>\n",
       "      <th>color_interior</th>\n",
       "    </tr>\n",
       "  </thead>\n",
       "  <tbody>\n",
       "    <tr>\n",
       "      <th>0</th>\n",
       "      <td>Daewoo Rezzo</td>\n",
       "      <td>2003</td>\n",
       "      <td>200000 km</td>\n",
       "      <td>89 kW</td>\n",
       "      <td>121 hp</td>\n",
       "      <td>Gasoline</td>\n",
       "      <td>9 l/100 km</td>\n",
       "      <td>236 g CO2/km</td>\n",
       "      <td>Manual</td>\n",
       "      <td>199,00</td>\n",
       "      <td>EUR</td>\n",
       "      <td>Germany</td>\n",
       "      <td>NaN</td>\n",
       "      <td>NaN</td>\n",
       "      <td>NaN</td>\n",
       "      <td>NaN</td>\n",
       "      <td>NaN</td>\n",
       "      <td>NaN</td>\n",
       "    </tr>\n",
       "    <tr>\n",
       "      <th>1</th>\n",
       "      <td>Volkswagen Golf</td>\n",
       "      <td>1994</td>\n",
       "      <td>222275 km</td>\n",
       "      <td>55 kW</td>\n",
       "      <td>75 hp</td>\n",
       "      <td>Gasoline</td>\n",
       "      <td>0 l/100 km</td>\n",
       "      <td>0 g CO2/km</td>\n",
       "      <td>Manual</td>\n",
       "      <td>200,00</td>\n",
       "      <td>EUR</td>\n",
       "      <td>Germany</td>\n",
       "      <td>NaN</td>\n",
       "      <td>NaN</td>\n",
       "      <td>NaN</td>\n",
       "      <td>NaN</td>\n",
       "      <td>NaN</td>\n",
       "      <td>NaN</td>\n",
       "    </tr>\n",
       "    <tr>\n",
       "      <th>2</th>\n",
       "      <td>Ford Fiesta</td>\n",
       "      <td>2001</td>\n",
       "      <td>153000 km</td>\n",
       "      <td>44 kW</td>\n",
       "      <td>60 hp</td>\n",
       "      <td>Gasoline</td>\n",
       "      <td>7.3 l/100 km</td>\n",
       "      <td>171 g CO2/km</td>\n",
       "      <td>Manual</td>\n",
       "      <td>290,00</td>\n",
       "      <td>EUR</td>\n",
       "      <td>Germany</td>\n",
       "      <td>NaN</td>\n",
       "      <td>NaN</td>\n",
       "      <td>NaN</td>\n",
       "      <td>NaN</td>\n",
       "      <td>NaN</td>\n",
       "      <td>NaN</td>\n",
       "    </tr>\n",
       "    <tr>\n",
       "      <th>3</th>\n",
       "      <td>Volkswagen Polo</td>\n",
       "      <td>1999</td>\n",
       "      <td>154000 km</td>\n",
       "      <td>44 kW</td>\n",
       "      <td>60 hp</td>\n",
       "      <td>Gasoline</td>\n",
       "      <td>6.3 l/100 km</td>\n",
       "      <td>151 g CO2/km</td>\n",
       "      <td>Manual</td>\n",
       "      <td>350,00</td>\n",
       "      <td>EUR</td>\n",
       "      <td>Germany</td>\n",
       "      <td>NaN</td>\n",
       "      <td>NaN</td>\n",
       "      <td>NaN</td>\n",
       "      <td>NaN</td>\n",
       "      <td>NaN</td>\n",
       "      <td>NaN</td>\n",
       "    </tr>\n",
       "    <tr>\n",
       "      <th>4</th>\n",
       "      <td>Nissan Micra</td>\n",
       "      <td>1998</td>\n",
       "      <td>140000 km</td>\n",
       "      <td>40 kW</td>\n",
       "      <td>54 hp</td>\n",
       "      <td>Gasoline</td>\n",
       "      <td>6 l/100 km</td>\n",
       "      <td>152 g CO2/km</td>\n",
       "      <td>Manual</td>\n",
       "      <td>380,00</td>\n",
       "      <td>EUR</td>\n",
       "      <td>Germany</td>\n",
       "      <td>NaN</td>\n",
       "      <td>NaN</td>\n",
       "      <td>NaN</td>\n",
       "      <td>NaN</td>\n",
       "      <td>NaN</td>\n",
       "      <td>NaN</td>\n",
       "    </tr>\n",
       "  </tbody>\n",
       "</table>\n",
       "</div>"
      ],
      "text/plain": [
       "              name  year    mileage engine_power_kW engine_power_hp      fuel  \\\n",
       "0     Daewoo Rezzo  2003  200000 km          89 kW           121 hp  Gasoline   \n",
       "1  Volkswagen Golf  1994  222275 km          55 kW            75 hp  Gasoline   \n",
       "2      Ford Fiesta  2001  153000 km          44 kW            60 hp  Gasoline   \n",
       "3  Volkswagen Polo  1999  154000 km          44 kW            60 hp  Gasoline   \n",
       "4     Nissan Micra  1998  140000 km          40 kW            54 hp  Gasoline   \n",
       "\n",
       "     consumption        ecology gearbox   price currency  country capacity  \\\n",
       "0    9 l/100 km   236 g CO2/km   Manual  199,00      EUR  Germany      NaN   \n",
       "1    0 l/100 km     0 g CO2/km   Manual  200,00      EUR  Germany      NaN   \n",
       "2  7.3 l/100 km   171 g CO2/km   Manual  290,00      EUR  Germany      NaN   \n",
       "3  6.3 l/100 km   151 g CO2/km   Manual  350,00      EUR  Germany      NaN   \n",
       "4    6 l/100 km   152 g CO2/km   Manual  380,00      EUR  Germany      NaN   \n",
       "\n",
       "  other engine_size  nr_of_accidents color_exterior color_interior  \n",
       "0   NaN         NaN              NaN            NaN            NaN  \n",
       "1   NaN         NaN              NaN            NaN            NaN  \n",
       "2   NaN         NaN              NaN            NaN            NaN  \n",
       "3   NaN         NaN              NaN            NaN            NaN  \n",
       "4   NaN         NaN              NaN            NaN            NaN  "
      ]
     },
     "execution_count": 335,
     "metadata": {},
     "output_type": "execute_result"
    }
   ],
   "source": [
    "DF_PATH = os.getcwd() + \"/csv/used_cars.csv\"\n",
    "df = pd.read_csv(DF_PATH, sep=\";\", encoding = \"ISO-8859-1\")\n",
    "df.head()"
   ]
  },
  {
   "cell_type": "code",
   "execution_count": 336,
   "metadata": {},
   "outputs": [
    {
     "data": {
      "text/plain": [
       "(1816, 18)"
      ]
     },
     "execution_count": 336,
     "metadata": {},
     "output_type": "execute_result"
    }
   ],
   "source": [
    "df.shape"
   ]
  },
  {
   "cell_type": "markdown",
   "metadata": {},
   "source": [
    "Lowercase cars' `name`."
   ]
  },
  {
   "cell_type": "code",
   "execution_count": 337,
   "metadata": {},
   "outputs": [],
   "source": [
    "df.name = df.name.str.lower()"
   ]
  },
  {
   "cell_type": "markdown",
   "metadata": {},
   "source": [
    "Fill missing years with 0 and convert to int."
   ]
  },
  {
   "cell_type": "code",
   "execution_count": 338,
   "metadata": {},
   "outputs": [],
   "source": [
    "df.loc[df.year == \"-\", [\"year\"]] = 0\n",
    "df.loc[df.year == '0', [\"year\"]] = 0"
   ]
  },
  {
   "cell_type": "code",
   "execution_count": 339,
   "metadata": {},
   "outputs": [],
   "source": [
    "df.year = df.year.astype(int)"
   ]
  },
  {
   "cell_type": "markdown",
   "metadata": {},
   "source": [
    "Substitute missing values for `ecology` and `consumption`  with nan values."
   ]
  },
  {
   "cell_type": "code",
   "execution_count": 340,
   "metadata": {},
   "outputs": [],
   "source": [
    "df = df[df.engine_power_kW != \"#NAZWA?\"]\n",
    "df.loc[df.ecology == '-/- (CO2/km)', [\"ecology\"]] = np.nan\n",
    "df.loc[df.consumption == '-/- (l/100 km)', [\"consumption\"]] = np.nan"
   ]
  },
  {
   "cell_type": "markdown",
   "metadata": {},
   "source": [
    "Convert `engine_power_kW`, `engine_power_hp`, `consumption` and `ecology` to float.\n",
    "\n",
    "Rename columns."
   ]
  },
  {
   "cell_type": "code",
   "execution_count": 341,
   "metadata": {},
   "outputs": [],
   "source": [
    "df.engine_power_kW = df.engine_power_kW.str.replace(\" kW\", \"\", regex=False).astype(float)\n",
    "df.engine_power_hp = df.engine_power_hp.str.replace(\" hp\", \"\", regex=False).astype(float)\n",
    "df.ecology = df.ecology.str.replace(\" g CO2/km\", \"\", regex=False).astype(float)\n",
    "df.consumption = df.consumption.str.replace(\" l/100 km\", \"\", regex=False).astype(float)\n",
    "df.rename(columns={\"ecology\": \"ecology_(gCO2/km)\", \"consumption\":\"consumption_(l/100 km)\", \"fuel\":\"fuel_type\"}, inplace=True)"
   ]
  },
  {
   "cell_type": "markdown",
   "metadata": {},
   "source": [
    "Convert miles in `mileage` to km. Convert `mileage` to float."
   ]
  },
  {
   "cell_type": "code",
   "execution_count": 342,
   "metadata": {},
   "outputs": [],
   "source": [
    "miles_to_km = 1.609344\n",
    "\n",
    "miles_df = df[df.mileage.str.contains(\"mi\")].mileage.str.replace(r\"[a-z]+\", \"\")\n",
    "miles_df = round(miles_df.str.replace(',', \"\", regex=False).astype(float) * miles_to_km, 0)\n",
    "\n",
    "km_df = df[~df.mileage.str.contains(\"mi\")].mileage.str.replace(r\"[a-z]+\", \"\")\n",
    "km_df = km_df.str.replace(',', \"\", regex=False).astype(float)\n",
    "\n",
    "contains_miles = df.mileage.str.contains(\"mi\")\n",
    "df.loc[contains_miles, ['mileage']] = miles_df\n",
    "\n",
    "contains_miles = ~contains_miles\n",
    "df.loc[contains_miles, ['mileage']] = km_df"
   ]
  },
  {
   "cell_type": "markdown",
   "metadata": {},
   "source": [
    "Convert all prices from original currencies to EUR."
   ]
  },
  {
   "cell_type": "code",
   "execution_count": 343,
   "metadata": {},
   "outputs": [],
   "source": [
    "from currency_converter import CurrencyConverter\n",
    "c = CurrencyConverter()\n",
    "currencies = df.currency.unique()\n",
    "# currencies = [c for c in currencies if c != \"EUR\"]\n",
    "\n",
    "df.price = df.price.str.replace(\",\", \".\").astype(float)\n",
    "\n",
    "for currency in currencies:\n",
    "    price = df[df.currency == currency].price\n",
    "    curr = [round(c.convert(p, currency, \"EUR\"), 2) for p in (list(price))]\n",
    "    df.loc[df.currency == currency, \"price_eur\"] = curr\n",
    "\n",
    "df = df.drop(columns=[\"price\", \"currency\"])"
   ]
  },
  {
   "cell_type": "markdown",
   "metadata": {},
   "source": [
    "Combine `capacity` and `engine_size` into one column, clean and convert to int."
   ]
  },
  {
   "cell_type": "code",
   "execution_count": 344,
   "metadata": {},
   "outputs": [],
   "source": [
    "df.engine_size = df.engine_size.combine_first(df.capacity)"
   ]
  },
  {
   "cell_type": "code",
   "execution_count": 345,
   "metadata": {},
   "outputs": [],
   "source": [
    "df.engine_size = df.engine_size.str.replace(\" cc\", \"\", regex=False)\n",
    "df.engine_size = df.engine_size.str.replace(\" cm33\", \"\", regex=False)\n",
    "df.engine_size = df.engine_size.str.replace(\",\", \"\", regex=False)\n",
    "df.engine_size = df.engine_size.fillna(value=0)\n",
    "df.engine_size = df.engine_size.astype(int)"
   ]
  },
  {
   "cell_type": "code",
   "execution_count": 346,
   "metadata": {},
   "outputs": [],
   "source": [
    "df.drop(columns=[\"capacity\", 'other'], inplace=True)"
   ]
  },
  {
   "cell_type": "markdown",
   "metadata": {},
   "source": [
    "Change NaN in object columns to `\"unknown\"`."
   ]
  },
  {
   "cell_type": "code",
   "execution_count": 347,
   "metadata": {},
   "outputs": [],
   "source": [
    "df.fuel_type.fillna(\"unknown\", inplace=True)\n",
    "df.gearbox.fillna(\"unknown\", inplace=True)\n",
    "df.color_exterior.fillna(\"unknown\", inplace=True)\n",
    "df.color_interior.fillna(\"unknown\", inplace=True)"
   ]
  },
  {
   "cell_type": "code",
   "execution_count": 348,
   "metadata": {},
   "outputs": [
    {
     "data": {
      "text/plain": [
       "name                       object\n",
       "year                        int32\n",
       "mileage                    object\n",
       "engine_power_kW           float64\n",
       "engine_power_hp           float64\n",
       "fuel_type                  object\n",
       "consumption_(l/100 km)    float64\n",
       "ecology_(gCO2/km)         float64\n",
       "gearbox                    object\n",
       "country                    object\n",
       "engine_size                 int32\n",
       "nr_of_accidents           float64\n",
       "color_exterior             object\n",
       "color_interior             object\n",
       "price_eur                 float64\n",
       "dtype: object"
      ]
     },
     "execution_count": 348,
     "metadata": {},
     "output_type": "execute_result"
    }
   ],
   "source": [
    "df.dtypes"
   ]
  },
  {
   "cell_type": "markdown",
   "metadata": {},
   "source": [
    "Add, analyze and clean column `mark`."
   ]
  },
  {
   "cell_type": "code",
   "execution_count": 349,
   "metadata": {},
   "outputs": [],
   "source": [
    "marks = []\n",
    "for i in range(len(df)):\n",
    "    name = df.iloc[i][0]\n",
    "    name = name.lower().replace(\".\", \"\").split(\" \")\n",
    "    for word in name:\n",
    "        if not word.isdigit():\n",
    "            marks.append(word)\n",
    "            break"
   ]
  },
  {
   "cell_type": "code",
   "execution_count": 350,
   "metadata": {},
   "outputs": [],
   "source": [
    "df.insert(1, 'mark', marks)"
   ]
  },
  {
   "cell_type": "code",
   "execution_count": 351,
   "metadata": {},
   "outputs": [],
   "source": [
    "incorrect_vals = ['very', 'low', 'green', 'lag', 'new', 'case', 'wiola', 'land',\n",
    "                 'door', 'reluctant', 'indian', 'tmt', 'hamm', 'atlas']man\n",
    "# non_car_manufacturer = ['jcb', 'kverneland' goldhofer laverda kobelco  bomag fendt\n",
    "# merlo  kubota bobcat manitou komatsu caterpillar terex takeuchi john wacker case\n",
    "# ] carnehl vaderstad skuter schaffer iveco\n",
    "# delete wiola\n",
    "# scion -> toyota\n",
    "# ds -> citroen?\n"
   ]
  },
  {
   "cell_type": "code",
   "execution_count": 331,
   "metadata": {},
   "outputs": [],
   "source": [
    "# df.loc[df.mark.isin(incorrect_vals)][\"name\"]\n",
    "df.loc[df.mark.str.contains(\"cooper\") & df.name.str.contains(\"mini\"), 'mark'] = \"cooper\"\n",
    "df.loc[df.mark == \"land\", 'mark'] = \"rover\"\n",
    "df.loc[df.mark == \"door\", 'mark'] = \"rover\"\n",
    "\n",
    "\n",
    "# df.loc[df.mark == \"mini\"][\"name\"]"
   ]
  },
  {
   "cell_type": "code",
   "execution_count": 374,
   "metadata": {},
   "outputs": [
    {
     "data": {
      "text/plain": [
       "744     case ih ct5080  pierwszy wâ³aâciciel / bardzo...\n",
       "775                    case 888  koparka koâ³owa case 888\n",
       "850                                       case ih jxu 105\n",
       "886                                       case ih mxu 135\n",
       "892                                      case ih jx95 4wd\n",
       "909                                    case ih maxxum 125\n",
       "917                                  case ih farmall 105u\n",
       "1016                                            case 821e\n",
       "Name: name, dtype: object"
      ]
     },
     "execution_count": 374,
     "metadata": {},
     "output_type": "execute_result"
    }
   ],
   "source": [
    "df.loc[df.mark == \"case\"][\"name\"]"
   ]
  },
  {
   "cell_type": "code",
   "execution_count": 303,
   "metadata": {},
   "outputs": [
    {
     "data": {
      "text/plain": [
       "array(['daewoo', 'volkswagen', 'ford', 'nissan', 'opel', 'mitsubishi',\n",
       "       'renault', 'audi', 'fiat', 'bmw', 'saab', 'skoda', 'mercedes',\n",
       "       'lancia', 'seat', 'toyota', 'volvo', 'peugeot', 'mazda', 'citroen',\n",
       "       'kia', 'land', 'chevrolet', 'smart', 'mini', 'hyundai', 'dacia',\n",
       "       'suzuki', 'honda', 'iveco', 'daihatsu', 'alfa', 'porsche',\n",
       "       'bentley', 'maserati', 'lexus', 'jeep', 'maybach', 'infiniti',\n",
       "       'triumph', 'wacker', 'case', 'vaderstad', 'skuter', 'schaffer',\n",
       "       'wiola', 'chrysler', 'jcb', 'doosan', 'caterpillar', 'terex',\n",
       "       'komatsu', 'man', 'carnehl', 'massey', 'claas', 'takeuchi', 'john',\n",
       "       'manitou', 'bobcat', 'kubota', 'mccormick', 'merlo', 'new',\n",
       "       'fendt', 'hitachi', 'bomag', 'atlas', 'hamm', 'kobelco',\n",
       "       'lamborghini', 'laverda', 'ssangyong', 'mg', 'tmt', 'goldhofer',\n",
       "       'jaguar', 'kymco', 'lag', 'stokota', 'yamaha', 'cf', 'can-am',\n",
       "       'indian', 'kverneland', 'green', 'low', 'vauxhall', 'mgtf', 'very',\n",
       "       'reluctant', 'audt', 'aston', 'dodge', 'ds', 'late', 'months',\n",
       "       'door', 'acura', 'ram', 'gmc', 'ferrari', 'cadillac', 'lincoln',\n",
       "       'hummer', 'pontiac', 'scion', 'buick', 'subaru'], dtype=object)"
      ]
     },
     "execution_count": 303,
     "metadata": {},
     "output_type": "execute_result"
    }
   ],
   "source": [
    "df.mark.unique()"
   ]
  },
  {
   "cell_type": "code",
   "execution_count": 302,
   "metadata": {},
   "outputs": [
    {
     "data": {
      "text/plain": [
       "ferrari        1\n",
       "lamborghini    1\n",
       "very           1\n",
       "low            1\n",
       "takeuchi       1\n",
       "mccormick      1\n",
       "schaffer       1\n",
       "late           1\n",
       "green          1\n",
       "lag            1\n",
       "Name: mark, dtype: int64"
      ]
     },
     "execution_count": 302,
     "metadata": {},
     "output_type": "execute_result"
    }
   ],
   "source": [
    "df.mark.value_counts()[-10:]"
   ]
  },
  {
   "cell_type": "code",
   "execution_count": 285,
   "metadata": {},
   "outputs": [],
   "source": [
    "df.loc[df.mark.str.contains(\"oda\"), 'mark'] = \"skoda\"\n",
    "df.loc[df.mark.str.contains(\"skodia\"), 'mark'] = \"skoda\"\n",
    "df.loc[df.mark.str.contains(\"citr\"), 'mark'] = \"citroen\"\n",
    "df.loc[df.mark.str.contains(\"mercedes-benz\"), 'mark'] = \"mercedes\"\n",
    "df.loc[df.mark.str.contains(\"vw\"), 'mark'] = \"volkswagen\"\n",
    "df.loc[df.mark.str.contains(\"derstad\"), 'mark'] = \"vaderstad\"\n",
    "# df.loc[df.mark.str.contains(\"vw\"), 'mark'] = \"volkswagen\""
   ]
  },
  {
   "cell_type": "code",
   "execution_count": 250,
   "metadata": {},
   "outputs": [],
   "source": [
    "df.to_csv(\"csv/new_csv/cleaned_data.csv\", index=False)"
   ]
  },
  {
   "cell_type": "code",
   "execution_count": null,
   "metadata": {},
   "outputs": [],
   "source": []
  }
 ],
 "metadata": {
  "kernelspec": {
   "display_name": "Python 3",
   "language": "python",
   "name": "python3"
  },
  "language_info": {
   "codemirror_mode": {
    "name": "ipython",
    "version": 3
   },
   "file_extension": ".py",
   "mimetype": "text/x-python",
   "name": "python",
   "nbconvert_exporter": "python",
   "pygments_lexer": "ipython3",
   "version": "3.7.6"
  }
 },
 "nbformat": 4,
 "nbformat_minor": 4
}
