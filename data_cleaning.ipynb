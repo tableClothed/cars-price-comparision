{
 "cells": [
  {
   "cell_type": "code",
   "execution_count": 17,
   "metadata": {},
   "outputs": [],
   "source": [
    "import seaborn as sns\n",
    "import matplotlib.pyplot as plt\n",
    "import numpy as np\n",
    "import os\n",
    "import pandas as pd"
   ]
  },
  {
   "cell_type": "code",
   "execution_count": 18,
   "metadata": {},
   "outputs": [],
   "source": [
    "from matplotlib import rcParams\n",
    "rcParams[\"figure.figsize\"] = 20, 6\n",
    "sns.set(font_scale=1.5)"
   ]
  },
  {
   "cell_type": "code",
   "execution_count": 19,
   "metadata": {},
   "outputs": [
    {
     "data": {
      "text/html": [
       "<div>\n",
       "<style scoped>\n",
       "    .dataframe tbody tr th:only-of-type {\n",
       "        vertical-align: middle;\n",
       "    }\n",
       "\n",
       "    .dataframe tbody tr th {\n",
       "        vertical-align: top;\n",
       "    }\n",
       "\n",
       "    .dataframe thead th {\n",
       "        text-align: right;\n",
       "    }\n",
       "</style>\n",
       "<table border=\"1\" class=\"dataframe\">\n",
       "  <thead>\n",
       "    <tr style=\"text-align: right;\">\n",
       "      <th></th>\n",
       "      <th>name</th>\n",
       "      <th>year</th>\n",
       "      <th>mileage</th>\n",
       "      <th>engine_power_kW</th>\n",
       "      <th>engine_power_hp</th>\n",
       "      <th>fuel</th>\n",
       "      <th>consumption</th>\n",
       "      <th>ecology</th>\n",
       "      <th>gearbox</th>\n",
       "      <th>price</th>\n",
       "      <th>currency</th>\n",
       "      <th>country</th>\n",
       "      <th>capacity</th>\n",
       "      <th>other</th>\n",
       "      <th>engine_size</th>\n",
       "      <th>nr_of_accidents</th>\n",
       "      <th>color_exterior</th>\n",
       "      <th>color_interior</th>\n",
       "    </tr>\n",
       "  </thead>\n",
       "  <tbody>\n",
       "    <tr>\n",
       "      <th>0</th>\n",
       "      <td>Daewoo Rezzo</td>\n",
       "      <td>2003</td>\n",
       "      <td>200000 km</td>\n",
       "      <td>89 kW</td>\n",
       "      <td>121 hp</td>\n",
       "      <td>Gasoline</td>\n",
       "      <td>9 l/100 km</td>\n",
       "      <td>236 g CO2/km</td>\n",
       "      <td>Manual</td>\n",
       "      <td>199,00</td>\n",
       "      <td>EUR</td>\n",
       "      <td>Germany</td>\n",
       "      <td>NaN</td>\n",
       "      <td>NaN</td>\n",
       "      <td>NaN</td>\n",
       "      <td>NaN</td>\n",
       "      <td>NaN</td>\n",
       "      <td>NaN</td>\n",
       "    </tr>\n",
       "    <tr>\n",
       "      <th>1</th>\n",
       "      <td>Volkswagen Golf</td>\n",
       "      <td>1994</td>\n",
       "      <td>222275 km</td>\n",
       "      <td>55 kW</td>\n",
       "      <td>75 hp</td>\n",
       "      <td>Gasoline</td>\n",
       "      <td>0 l/100 km</td>\n",
       "      <td>0 g CO2/km</td>\n",
       "      <td>Manual</td>\n",
       "      <td>200,00</td>\n",
       "      <td>EUR</td>\n",
       "      <td>Germany</td>\n",
       "      <td>NaN</td>\n",
       "      <td>NaN</td>\n",
       "      <td>NaN</td>\n",
       "      <td>NaN</td>\n",
       "      <td>NaN</td>\n",
       "      <td>NaN</td>\n",
       "    </tr>\n",
       "    <tr>\n",
       "      <th>2</th>\n",
       "      <td>Ford Fiesta</td>\n",
       "      <td>2001</td>\n",
       "      <td>153000 km</td>\n",
       "      <td>44 kW</td>\n",
       "      <td>60 hp</td>\n",
       "      <td>Gasoline</td>\n",
       "      <td>7.3 l/100 km</td>\n",
       "      <td>171 g CO2/km</td>\n",
       "      <td>Manual</td>\n",
       "      <td>290,00</td>\n",
       "      <td>EUR</td>\n",
       "      <td>Germany</td>\n",
       "      <td>NaN</td>\n",
       "      <td>NaN</td>\n",
       "      <td>NaN</td>\n",
       "      <td>NaN</td>\n",
       "      <td>NaN</td>\n",
       "      <td>NaN</td>\n",
       "    </tr>\n",
       "    <tr>\n",
       "      <th>3</th>\n",
       "      <td>Volkswagen Polo</td>\n",
       "      <td>1999</td>\n",
       "      <td>154000 km</td>\n",
       "      <td>44 kW</td>\n",
       "      <td>60 hp</td>\n",
       "      <td>Gasoline</td>\n",
       "      <td>6.3 l/100 km</td>\n",
       "      <td>151 g CO2/km</td>\n",
       "      <td>Manual</td>\n",
       "      <td>350,00</td>\n",
       "      <td>EUR</td>\n",
       "      <td>Germany</td>\n",
       "      <td>NaN</td>\n",
       "      <td>NaN</td>\n",
       "      <td>NaN</td>\n",
       "      <td>NaN</td>\n",
       "      <td>NaN</td>\n",
       "      <td>NaN</td>\n",
       "    </tr>\n",
       "    <tr>\n",
       "      <th>4</th>\n",
       "      <td>Nissan Micra</td>\n",
       "      <td>1998</td>\n",
       "      <td>140000 km</td>\n",
       "      <td>40 kW</td>\n",
       "      <td>54 hp</td>\n",
       "      <td>Gasoline</td>\n",
       "      <td>6 l/100 km</td>\n",
       "      <td>152 g CO2/km</td>\n",
       "      <td>Manual</td>\n",
       "      <td>380,00</td>\n",
       "      <td>EUR</td>\n",
       "      <td>Germany</td>\n",
       "      <td>NaN</td>\n",
       "      <td>NaN</td>\n",
       "      <td>NaN</td>\n",
       "      <td>NaN</td>\n",
       "      <td>NaN</td>\n",
       "      <td>NaN</td>\n",
       "    </tr>\n",
       "  </tbody>\n",
       "</table>\n",
       "</div>"
      ],
      "text/plain": [
       "              name  year    mileage engine_power_kW engine_power_hp      fuel  \\\n",
       "0     Daewoo Rezzo  2003  200000 km          89 kW           121 hp  Gasoline   \n",
       "1  Volkswagen Golf  1994  222275 km          55 kW            75 hp  Gasoline   \n",
       "2      Ford Fiesta  2001  153000 km          44 kW            60 hp  Gasoline   \n",
       "3  Volkswagen Polo  1999  154000 km          44 kW            60 hp  Gasoline   \n",
       "4     Nissan Micra  1998  140000 km          40 kW            54 hp  Gasoline   \n",
       "\n",
       "     consumption        ecology gearbox   price currency  country capacity  \\\n",
       "0    9 l/100 km   236 g CO2/km   Manual  199,00      EUR  Germany      NaN   \n",
       "1    0 l/100 km     0 g CO2/km   Manual  200,00      EUR  Germany      NaN   \n",
       "2  7.3 l/100 km   171 g CO2/km   Manual  290,00      EUR  Germany      NaN   \n",
       "3  6.3 l/100 km   151 g CO2/km   Manual  350,00      EUR  Germany      NaN   \n",
       "4    6 l/100 km   152 g CO2/km   Manual  380,00      EUR  Germany      NaN   \n",
       "\n",
       "  other engine_size  nr_of_accidents color_exterior color_interior  \n",
       "0   NaN         NaN              NaN            NaN            NaN  \n",
       "1   NaN         NaN              NaN            NaN            NaN  \n",
       "2   NaN         NaN              NaN            NaN            NaN  \n",
       "3   NaN         NaN              NaN            NaN            NaN  \n",
       "4   NaN         NaN              NaN            NaN            NaN  "
      ]
     },
     "execution_count": 19,
     "metadata": {},
     "output_type": "execute_result"
    }
   ],
   "source": [
    "DF_PATH = os.getcwd() + \"/csv/used_cars.csv\"\n",
    "df = pd.read_csv(DF_PATH, sep=\";\", encoding = \"ISO-8859-1\")\n",
    "df.head()"
   ]
  },
  {
   "cell_type": "code",
   "execution_count": 20,
   "metadata": {},
   "outputs": [
    {
     "data": {
      "text/plain": [
       "(1816, 18)"
      ]
     },
     "execution_count": 20,
     "metadata": {},
     "output_type": "execute_result"
    }
   ],
   "source": [
    "df.shape"
   ]
  },
  {
   "cell_type": "markdown",
   "metadata": {},
   "source": [
    "Lowercase cars' `name`."
   ]
  },
  {
   "cell_type": "code",
   "execution_count": 21,
   "metadata": {},
   "outputs": [],
   "source": [
    "df.name = df.name.str.lower()"
   ]
  },
  {
   "cell_type": "markdown",
   "metadata": {},
   "source": [
    "Fill missing years with 0 and convert to int."
   ]
  },
  {
   "cell_type": "code",
   "execution_count": 22,
   "metadata": {},
   "outputs": [],
   "source": [
    "df.loc[df.year == \"-\", [\"year\"]] = 0\n",
    "df.loc[df.year == '0', [\"year\"]] = 0"
   ]
  },
  {
   "cell_type": "code",
   "execution_count": 23,
   "metadata": {},
   "outputs": [],
   "source": [
    "df.year = df.year.astype(int)"
   ]
  },
  {
   "cell_type": "markdown",
   "metadata": {},
   "source": [
    "Substitute missing values for `ecology` and `consumption`  with nan values."
   ]
  },
  {
   "cell_type": "code",
   "execution_count": 24,
   "metadata": {},
   "outputs": [],
   "source": [
    "df = df[df.engine_power_kW != \"#NAZWA?\"]\n",
    "df.loc[df.ecology == '-/- (CO2/km)', [\"ecology\"]] = np.nan\n",
    "df.loc[df.consumption == '-/- (l/100 km)', [\"consumption\"]] = np.nan"
   ]
  },
  {
   "cell_type": "markdown",
   "metadata": {},
   "source": [
    "Convert `engine_power_kW`, `engine_power_hp`, `consumption` and `ecology` to float.\n",
    "\n",
    "Rename columns."
   ]
  },
  {
   "cell_type": "code",
   "execution_count": 25,
   "metadata": {},
   "outputs": [],
   "source": [
    "df.engine_power_kW = df.engine_power_kW.str.replace(\" kW\", \"\", regex=False).astype(float)\n",
    "df.engine_power_hp = df.engine_power_hp.str.replace(\" hp\", \"\", regex=False).astype(float)\n",
    "df.ecology = df.ecology.str.replace(\" g CO2/km\", \"\", regex=False).astype(float)\n",
    "df.consumption = df.consumption.str.replace(\" l/100 km\", \"\", regex=False).astype(float)\n",
    "df.rename(columns={\"ecology\": \"ecology_(gCO2/km)\", \"consumption\":\"consumption_(l/100 km)\", \"fuel\":\"fuel_type\"}, inplace=True)"
   ]
  },
  {
   "cell_type": "markdown",
   "metadata": {},
   "source": [
    "Convert miles in `mileage` to km. Convert `mileage` to float."
   ]
  },
  {
   "cell_type": "code",
   "execution_count": 26,
   "metadata": {},
   "outputs": [],
   "source": [
    "miles_to_km = 1.609344\n",
    "\n",
    "miles_df = df[df.mileage.str.contains(\"mi\")].mileage.str.replace(r\"[a-z]+\", \"\")\n",
    "miles_df = round(miles_df.str.replace(',', \"\", regex=False).astype(float) * miles_to_km, 0)\n",
    "\n",
    "km_df = df[~df.mileage.str.contains(\"mi\")].mileage.str.replace(r\"[a-z]+\", \"\")\n",
    "km_df = km_df.str.replace(',', \"\", regex=False).astype(float)\n",
    "\n",
    "contains_miles = df.mileage.str.contains(\"mi\")\n",
    "df.loc[contains_miles, ['mileage']] = miles_df\n",
    "\n",
    "contains_miles = ~contains_miles\n",
    "df.loc[contains_miles, ['mileage']] = km_df"
   ]
  },
  {
   "cell_type": "markdown",
   "metadata": {},
   "source": [
    "Convert all prices from original currencies to EUR."
   ]
  },
  {
   "cell_type": "code",
   "execution_count": 27,
   "metadata": {},
   "outputs": [],
   "source": [
    "from currency_converter import CurrencyConverter\n",
    "c = CurrencyConverter()\n",
    "currencies = df.currency.unique()\n",
    "# currencies = [c for c in currencies if c != \"EUR\"]\n",
    "\n",
    "df.price = df.price.str.replace(\",\", \".\").astype(float)\n",
    "\n",
    "for currency in currencies:\n",
    "    price = df[df.currency == currency].price\n",
    "    curr = [round(c.convert(p, currency, \"EUR\"), 2) for p in (list(price))]\n",
    "    df.loc[df.currency == currency, \"price_eur\"] = curr\n",
    "\n",
    "# df = df.drop(columns=[\"price\", \"currency\"])"
   ]
  },
  {
   "cell_type": "markdown",
   "metadata": {},
   "source": [
    "Combine `capacity` and `engine_size` into one column, clean and convert to int."
   ]
  },
  {
   "cell_type": "code",
   "execution_count": 28,
   "metadata": {},
   "outputs": [],
   "source": [
    "df.engine_size = df.engine_size.combine_first(df.capacity)"
   ]
  },
  {
   "cell_type": "code",
   "execution_count": 29,
   "metadata": {},
   "outputs": [],
   "source": [
    "df.engine_size = df.engine_size.str.replace(\" cc\", \"\", regex=False)\n",
    "df.engine_size = df.engine_size.str.replace(\" cm33\", \"\", regex=False)\n",
    "df.engine_size = df.engine_size.str.replace(\",\", \"\", regex=False)\n",
    "df.engine_size = df.engine_size.fillna(value=0)\n",
    "df.engine_size = df.engine_size.astype(float)"
   ]
  },
  {
   "cell_type": "code",
   "execution_count": 30,
   "metadata": {},
   "outputs": [],
   "source": [
    "df.drop(columns=[\"capacity\", 'other'], inplace=True)"
   ]
  },
  {
   "cell_type": "markdown",
   "metadata": {},
   "source": [
    "Change NaN in object columns to `\"unknown\"`."
   ]
  },
  {
   "cell_type": "code",
   "execution_count": 31,
   "metadata": {},
   "outputs": [],
   "source": [
    "df.fuel_type.fillna(\"unknown\", inplace=True)\n",
    "df.gearbox.fillna(\"unknown\", inplace=True)\n",
    "df.color_exterior.fillna(\"unknown\", inplace=True)\n",
    "df.color_interior.fillna(\"unknown\", inplace=True)"
   ]
  },
  {
   "cell_type": "code",
   "execution_count": 32,
   "metadata": {},
   "outputs": [
    {
     "data": {
      "text/plain": [
       "name                       object\n",
       "year                        int32\n",
       "mileage                    object\n",
       "engine_power_kW           float64\n",
       "engine_power_hp           float64\n",
       "fuel_type                  object\n",
       "consumption_(l/100 km)    float64\n",
       "ecology_(gCO2/km)         float64\n",
       "gearbox                    object\n",
       "price                     float64\n",
       "currency                   object\n",
       "country                    object\n",
       "engine_size               float64\n",
       "nr_of_accidents           float64\n",
       "color_exterior             object\n",
       "color_interior             object\n",
       "price_eur                 float64\n",
       "dtype: object"
      ]
     },
     "execution_count": 32,
     "metadata": {},
     "output_type": "execute_result"
    }
   ],
   "source": [
    "df.dtypes"
   ]
  },
  {
   "cell_type": "markdown",
   "metadata": {},
   "source": [
    "Add, analyze and clean column `mark`."
   ]
  },
  {
   "cell_type": "code",
   "execution_count": 33,
   "metadata": {},
   "outputs": [],
   "source": [
    "marks = []\n",
    "for i in range(len(df)):\n",
    "    name = df.iloc[i][0]\n",
    "    name = name.lower().replace(\".\", \"\").split(\" \")\n",
    "    for word in name:\n",
    "        if not word.isdigit():\n",
    "            marks.append(word)\n",
    "            break"
   ]
  },
  {
   "cell_type": "code",
   "execution_count": 34,
   "metadata": {},
   "outputs": [],
   "source": [
    "df.insert(1, 'mark', marks)"
   ]
  },
  {
   "cell_type": "code",
   "execution_count": 35,
   "metadata": {},
   "outputs": [],
   "source": [
    "df.loc[df.mark.str.contains(\"oda\"), 'mark'] = \"skoda\"\n",
    "df.loc[df.mark.str.contains(\"skodia\"), 'mark'] = \"skoda\"\n",
    "df.loc[df.mark.str.contains(\"citr\"), 'mark'] = \"citroen\"\n",
    "df.loc[df.mark.str.contains(\"mercedes-benz\"), 'mark'] = \"mercedes\"\n",
    "df.loc[df.mark.str.contains(\"vw\"), 'mark'] = \"volkswagen\"\n",
    "df.loc[df.mark==\"late\", 'mark'] = \"nissan\"\n",
    "df.loc[df.mark.str.contains(\"cooper\") & df.name.str.contains(\"mini\"), 'mark'] = \"cooper\"\n",
    "df.loc[df.mark == \"land\", 'mark'] = \"rover\"\n",
    "df.loc[df.mark == \"door\", 'mark'] = \"rover\"\n",
    "# df.loc[df.mark.str.contains(\"vw\"), 'mark'] = \"volkswagen\""
   ]
  },
  {
   "cell_type": "markdown",
   "metadata": {},
   "source": [
    "Get rid of vehicles of obscure title and non-cars."
   ]
  },
  {
   "cell_type": "code",
   "execution_count": 36,
   "metadata": {},
   "outputs": [],
   "source": [
    "incorrect_vals = ['very', 'low', 'green', 'lag', 'new', 'case', 'wiola',\n",
    "                 'reluctant', 'indian', 'tmt', 'hamm', 'atlas', 'man', 'months']\n",
    "non_car_manufacturer = ['jcb', 'kverneland', 'goldhofer', 'laverda', 'kobelco',\n",
    "                        'bomag', 'fendt', 'merlo', 'kubota', 'bobcat', 'manitou',\n",
    "                        'komatsu', 'caterpillar', 'terex', 'takeuchi', 'john', 'wacker',\n",
    "                        'case', 'carnehl', 'vaderstad', 'skuter', 'schaffer', 'iveco']\n",
    "\n",
    "df = df[~df.mark.isin(incorrect_vals)]\n",
    "df = df[~df.mark.isin(non_car_manufacturer)]"
   ]
  },
  {
   "cell_type": "code",
   "execution_count": 37,
   "metadata": {},
   "outputs": [
    {
     "data": {
      "text/html": [
       "<div>\n",
       "<style scoped>\n",
       "    .dataframe tbody tr th:only-of-type {\n",
       "        vertical-align: middle;\n",
       "    }\n",
       "\n",
       "    .dataframe tbody tr th {\n",
       "        vertical-align: top;\n",
       "    }\n",
       "\n",
       "    .dataframe thead th {\n",
       "        text-align: right;\n",
       "    }\n",
       "</style>\n",
       "<table border=\"1\" class=\"dataframe\">\n",
       "  <thead>\n",
       "    <tr style=\"text-align: right;\">\n",
       "      <th></th>\n",
       "      <th>name</th>\n",
       "      <th>mark</th>\n",
       "      <th>year</th>\n",
       "      <th>mileage</th>\n",
       "      <th>engine_power_kW</th>\n",
       "      <th>engine_power_hp</th>\n",
       "      <th>fuel_type</th>\n",
       "      <th>consumption_(l/100 km)</th>\n",
       "      <th>ecology_(gCO2/km)</th>\n",
       "      <th>gearbox</th>\n",
       "      <th>price</th>\n",
       "      <th>currency</th>\n",
       "      <th>country</th>\n",
       "      <th>engine_size</th>\n",
       "      <th>nr_of_accidents</th>\n",
       "      <th>color_exterior</th>\n",
       "      <th>color_interior</th>\n",
       "      <th>price_eur</th>\n",
       "    </tr>\n",
       "  </thead>\n",
       "  <tbody>\n",
       "    <tr>\n",
       "      <th>0</th>\n",
       "      <td>daewoo rezzo</td>\n",
       "      <td>daewoo</td>\n",
       "      <td>2003</td>\n",
       "      <td>200000</td>\n",
       "      <td>89.0</td>\n",
       "      <td>121.0</td>\n",
       "      <td>Gasoline</td>\n",
       "      <td>9.0</td>\n",
       "      <td>236.0</td>\n",
       "      <td>Manual</td>\n",
       "      <td>199.0</td>\n",
       "      <td>EUR</td>\n",
       "      <td>Germany</td>\n",
       "      <td>0.0</td>\n",
       "      <td>NaN</td>\n",
       "      <td>unknown</td>\n",
       "      <td>unknown</td>\n",
       "      <td>199.0</td>\n",
       "    </tr>\n",
       "    <tr>\n",
       "      <th>1</th>\n",
       "      <td>volkswagen golf</td>\n",
       "      <td>volkswagen</td>\n",
       "      <td>1994</td>\n",
       "      <td>222275</td>\n",
       "      <td>55.0</td>\n",
       "      <td>75.0</td>\n",
       "      <td>Gasoline</td>\n",
       "      <td>0.0</td>\n",
       "      <td>0.0</td>\n",
       "      <td>Manual</td>\n",
       "      <td>200.0</td>\n",
       "      <td>EUR</td>\n",
       "      <td>Germany</td>\n",
       "      <td>0.0</td>\n",
       "      <td>NaN</td>\n",
       "      <td>unknown</td>\n",
       "      <td>unknown</td>\n",
       "      <td>200.0</td>\n",
       "    </tr>\n",
       "    <tr>\n",
       "      <th>2</th>\n",
       "      <td>ford fiesta</td>\n",
       "      <td>ford</td>\n",
       "      <td>2001</td>\n",
       "      <td>153000</td>\n",
       "      <td>44.0</td>\n",
       "      <td>60.0</td>\n",
       "      <td>Gasoline</td>\n",
       "      <td>7.3</td>\n",
       "      <td>171.0</td>\n",
       "      <td>Manual</td>\n",
       "      <td>290.0</td>\n",
       "      <td>EUR</td>\n",
       "      <td>Germany</td>\n",
       "      <td>0.0</td>\n",
       "      <td>NaN</td>\n",
       "      <td>unknown</td>\n",
       "      <td>unknown</td>\n",
       "      <td>290.0</td>\n",
       "    </tr>\n",
       "    <tr>\n",
       "      <th>3</th>\n",
       "      <td>volkswagen polo</td>\n",
       "      <td>volkswagen</td>\n",
       "      <td>1999</td>\n",
       "      <td>154000</td>\n",
       "      <td>44.0</td>\n",
       "      <td>60.0</td>\n",
       "      <td>Gasoline</td>\n",
       "      <td>6.3</td>\n",
       "      <td>151.0</td>\n",
       "      <td>Manual</td>\n",
       "      <td>350.0</td>\n",
       "      <td>EUR</td>\n",
       "      <td>Germany</td>\n",
       "      <td>0.0</td>\n",
       "      <td>NaN</td>\n",
       "      <td>unknown</td>\n",
       "      <td>unknown</td>\n",
       "      <td>350.0</td>\n",
       "    </tr>\n",
       "    <tr>\n",
       "      <th>4</th>\n",
       "      <td>nissan micra</td>\n",
       "      <td>nissan</td>\n",
       "      <td>1998</td>\n",
       "      <td>140000</td>\n",
       "      <td>40.0</td>\n",
       "      <td>54.0</td>\n",
       "      <td>Gasoline</td>\n",
       "      <td>6.0</td>\n",
       "      <td>152.0</td>\n",
       "      <td>Manual</td>\n",
       "      <td>380.0</td>\n",
       "      <td>EUR</td>\n",
       "      <td>Germany</td>\n",
       "      <td>0.0</td>\n",
       "      <td>NaN</td>\n",
       "      <td>unknown</td>\n",
       "      <td>unknown</td>\n",
       "      <td>380.0</td>\n",
       "    </tr>\n",
       "  </tbody>\n",
       "</table>\n",
       "</div>"
      ],
      "text/plain": [
       "              name        mark  year mileage  engine_power_kW  \\\n",
       "0     daewoo rezzo      daewoo  2003  200000             89.0   \n",
       "1  volkswagen golf  volkswagen  1994  222275             55.0   \n",
       "2      ford fiesta        ford  2001  153000             44.0   \n",
       "3  volkswagen polo  volkswagen  1999  154000             44.0   \n",
       "4     nissan micra      nissan  1998  140000             40.0   \n",
       "\n",
       "   engine_power_hp fuel_type  consumption_(l/100 km)  ecology_(gCO2/km)  \\\n",
       "0            121.0  Gasoline                     9.0              236.0   \n",
       "1             75.0  Gasoline                     0.0                0.0   \n",
       "2             60.0  Gasoline                     7.3              171.0   \n",
       "3             60.0  Gasoline                     6.3              151.0   \n",
       "4             54.0  Gasoline                     6.0              152.0   \n",
       "\n",
       "  gearbox  price currency  country  engine_size  nr_of_accidents  \\\n",
       "0  Manual  199.0      EUR  Germany          0.0              NaN   \n",
       "1  Manual  200.0      EUR  Germany          0.0              NaN   \n",
       "2  Manual  290.0      EUR  Germany          0.0              NaN   \n",
       "3  Manual  350.0      EUR  Germany          0.0              NaN   \n",
       "4  Manual  380.0      EUR  Germany          0.0              NaN   \n",
       "\n",
       "  color_exterior color_interior  price_eur  \n",
       "0        unknown        unknown      199.0  \n",
       "1        unknown        unknown      200.0  \n",
       "2        unknown        unknown      290.0  \n",
       "3        unknown        unknown      350.0  \n",
       "4        unknown        unknown      380.0  "
      ]
     },
     "execution_count": 37,
     "metadata": {},
     "output_type": "execute_result"
    }
   ],
   "source": [
    "df.head()"
   ]
  },
  {
   "cell_type": "code",
   "execution_count": 38,
   "metadata": {},
   "outputs": [],
   "source": [
    "# df.loc[df.mark == \"smart\"][\"name\"]"
   ]
  },
  {
   "cell_type": "code",
   "execution_count": 39,
   "metadata": {},
   "outputs": [
    {
     "data": {
      "text/plain": [
       "(1700, 18)"
      ]
     },
     "execution_count": 39,
     "metadata": {},
     "output_type": "execute_result"
    }
   ],
   "source": [
    "df.shape"
   ]
  },
  {
   "cell_type": "code",
   "execution_count": 40,
   "metadata": {},
   "outputs": [
    {
     "data": {
      "text/plain": [
       "array(['daewoo', 'volkswagen', 'ford', 'nissan', 'opel', 'mitsubishi',\n",
       "       'renault', 'audi', 'fiat', 'bmw', 'saab', 'skoda', 'mercedes',\n",
       "       'lancia', 'seat', 'toyota', 'volvo', 'peugeot', 'mazda', 'citroen',\n",
       "       'kia', 'rover', 'chevrolet', 'smart', 'mini', 'hyundai', 'dacia',\n",
       "       'suzuki', 'honda', 'daihatsu', 'alfa', 'porsche', 'bentley',\n",
       "       'maserati', 'lexus', 'jeep', 'maybach', 'infiniti', 'triumph',\n",
       "       'vã¤derstad', 'chrysler', 'doosan', 'massey', 'claas', 'mccormick',\n",
       "       'hitachi', 'lamborghini', 'ssangyong', 'mg', 'jaguar', 'kymco',\n",
       "       'stokota', 'yamaha', 'cf', 'can-am', 'vauxhall', 'mgtf', 'audt',\n",
       "       'aston', 'dodge', 'ds', 'acura', 'ram', 'gmc', 'ferrari',\n",
       "       'cadillac', 'lincoln', 'hummer', 'pontiac', 'scion', 'buick',\n",
       "       'subaru'], dtype=object)"
      ]
     },
     "execution_count": 40,
     "metadata": {},
     "output_type": "execute_result"
    }
   ],
   "source": [
    "df.mark.unique()"
   ]
  },
  {
   "cell_type": "code",
   "execution_count": 41,
   "metadata": {},
   "outputs": [
    {
     "data": {
      "text/html": [
       "<div>\n",
       "<style scoped>\n",
       "    .dataframe tbody tr th:only-of-type {\n",
       "        vertical-align: middle;\n",
       "    }\n",
       "\n",
       "    .dataframe tbody tr th {\n",
       "        vertical-align: top;\n",
       "    }\n",
       "\n",
       "    .dataframe thead th {\n",
       "        text-align: right;\n",
       "    }\n",
       "</style>\n",
       "<table border=\"1\" class=\"dataframe\">\n",
       "  <thead>\n",
       "    <tr style=\"text-align: right;\">\n",
       "      <th></th>\n",
       "      <th>mark</th>\n",
       "    </tr>\n",
       "  </thead>\n",
       "  <tbody>\n",
       "    <tr>\n",
       "      <th>mercedes</th>\n",
       "      <td>197</td>\n",
       "    </tr>\n",
       "    <tr>\n",
       "      <th>ford</th>\n",
       "      <td>194</td>\n",
       "    </tr>\n",
       "    <tr>\n",
       "      <th>nissan</th>\n",
       "      <td>123</td>\n",
       "    </tr>\n",
       "    <tr>\n",
       "      <th>toyota</th>\n",
       "      <td>104</td>\n",
       "    </tr>\n",
       "    <tr>\n",
       "      <th>volkswagen</th>\n",
       "      <td>98</td>\n",
       "    </tr>\n",
       "    <tr>\n",
       "      <th>...</th>\n",
       "      <td>...</td>\n",
       "    </tr>\n",
       "    <tr>\n",
       "      <th>cf</th>\n",
       "      <td>1</td>\n",
       "    </tr>\n",
       "    <tr>\n",
       "      <th>lamborghini</th>\n",
       "      <td>1</td>\n",
       "    </tr>\n",
       "    <tr>\n",
       "      <th>buick</th>\n",
       "      <td>1</td>\n",
       "    </tr>\n",
       "    <tr>\n",
       "      <th>scion</th>\n",
       "      <td>1</td>\n",
       "    </tr>\n",
       "    <tr>\n",
       "      <th>ferrari</th>\n",
       "      <td>1</td>\n",
       "    </tr>\n",
       "  </tbody>\n",
       "</table>\n",
       "<p>72 rows × 1 columns</p>\n",
       "</div>"
      ],
      "text/plain": [
       "             mark\n",
       "mercedes      197\n",
       "ford          194\n",
       "nissan        123\n",
       "toyota        104\n",
       "volkswagen     98\n",
       "...           ...\n",
       "cf              1\n",
       "lamborghini     1\n",
       "buick           1\n",
       "scion           1\n",
       "ferrari         1\n",
       "\n",
       "[72 rows x 1 columns]"
      ]
     },
     "execution_count": 41,
     "metadata": {},
     "output_type": "execute_result"
    }
   ],
   "source": [
    "df.mark.value_counts().to_frame()"
   ]
  },
  {
   "cell_type": "code",
   "execution_count": 42,
   "metadata": {},
   "outputs": [],
   "source": [
    "df.to_csv(\"csv/new_csv/cleaned_data.csv\", index=False)"
   ]
  },
  {
   "cell_type": "code",
   "execution_count": null,
   "metadata": {},
   "outputs": [],
   "source": []
  }
 ],
 "metadata": {
  "kernelspec": {
   "display_name": "Python 3",
   "language": "python",
   "name": "python3"
  },
  "language_info": {
   "codemirror_mode": {
    "name": "ipython",
    "version": 3
   },
   "file_extension": ".py",
   "mimetype": "text/x-python",
   "name": "python",
   "nbconvert_exporter": "python",
   "pygments_lexer": "ipython3",
   "version": "3.7.6"
  }
 },
 "nbformat": 4,
 "nbformat_minor": 4
}
