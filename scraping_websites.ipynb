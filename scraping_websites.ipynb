{
 "cells": [
  {
   "cell_type": "code",
   "execution_count": 1,
   "metadata": {
    "colab": {},
    "colab_type": "code",
    "id": "1mLFxcYZlMcU"
   },
   "outputs": [],
   "source": [
    "from bs4 import BeautifulSoup as soup\n",
    "from urllib.request import urlopen\n",
    "import requests\n",
    "import json\n",
    "\n",
    "headers = requests.utils.default_headers()\n",
    "headers.update({\n",
    "    'User-Agent': 'Mozilla/5.0 (X11; Ubuntu; Linux x86_64; rv:52.0) Gecko/20100101 Firefox/52.0',\n",
    "})"
   ]
  },
  {
   "cell_type": "markdown",
   "metadata": {
    "colab_type": "text",
    "id": "aWN4GST3PLKB"
   },
   "source": [
    "# POLAND\n",
    "\n",
    "---\n",
    "\n",
    "\n",
    "\n",
    "---\n",
    "\n",
    "\n",
    "\n"
   ]
  },
  {
   "cell_type": "code",
   "execution_count": 3,
   "metadata": {
    "colab": {},
    "colab_type": "code",
    "id": "0Bt12ScR6FjO"
   },
   "outputs": [],
   "source": [
    "pages_pl = []\n",
    "\n",
    "for i in range(1, 10):\n",
    "  URL_PL = f\"https://www.otomoto.pl/promoted?page={i}\"\n",
    "\n",
    "  page_html = requests.get(URL_PL, headers=headers)\n",
    "  page_html = soup(page_html.content, \"lxml\")\n",
    "  pages_pl.append(page_html)"
   ]
  },
  {
   "cell_type": "code",
   "execution_count": 55,
   "metadata": {
    "colab": {},
    "colab_type": "code",
    "id": "34WvToRY-F3F"
   },
   "outputs": [],
   "source": [
    "f = open(\"cars_PL.csv\", \"w\")\n",
    "csv_headers = \"name;year;mileage;capacity;fuel;other;price;currency\\n\"\n",
    "f.write(csv_headers)\n",
    "\n",
    "for page in pages_pl:\n",
    "    car_cards = page.findAll(\"article\", {\"class\":\"item\"})\n",
    "    for card in car_cards:\n",
    "        car_name = card.find(\"a\", {\"class\":\"ds-link ds-secondary\"}).text\n",
    "        capacity = 0\n",
    "        year = 0\n",
    "        mileage = 0\n",
    "        fuel = \"\"\n",
    "        others = []\n",
    "        \n",
    "        try:\n",
    "            price = card.findAll(\"div\", {\"class\":\"hidden-mobile\"})[0].span.text\n",
    "        except:\n",
    "            price = card.findAll(\"div\", {\"class\":\"hidden-mobile\"})[1].span.text\n",
    "        \n",
    "        price = float(price.replace(\" \", \"\").replace(\",\", \"\").replace(\".\", \"\"))\n",
    "        \n",
    "        features = card.ul.findAll(\"li\")\n",
    "        for feature in features:\n",
    "            feature = feature.text\n",
    "            if \"km\" in feature and feature[0].isdigit():\n",
    "                mileage = feature.replace(\" \", \"\").replace(\"km\", \" km\")\n",
    "            elif \"m3\" in feature and feature[0].isdigit():\n",
    "                capacity = feature.replace(\" \", \"\").replace(\"cm\", \" cm3\")\n",
    "            elif (len(feature.replace(\" \", \"\")) == 4 and feature[:2] == \"20\") or (len(feature.replace(\" \", \"\")) == 4 and feature[:2] == \"19\"):\n",
    "                year = int(feature.replace(\" \", \"\"))\n",
    "            elif \"iesel\" in feature or \"etrol\" in feature:\n",
    "                fuel = feature\n",
    "            else:\n",
    "                others.append(feature)\n",
    "\n",
    "        f.write(f\"{car_name};{year};{mileage};{capacity};{fuel};{others};{price};PLN\\n\")\n",
    "        \n",
    "f.close()"
   ]
  },
  {
   "cell_type": "markdown",
   "metadata": {
    "colab_type": "text",
    "id": "nU1V55XPJXTZ"
   },
   "source": [
    "# GREAT BRITAIN\n",
    "\n",
    "---\n",
    "\n",
    "\n",
    "\n",
    "---\n",
    "\n"
   ]
  },
  {
   "cell_type": "code",
   "execution_count": 43,
   "metadata": {
    "colab": {},
    "colab_type": "code",
    "id": "ySKResNn-o9S"
   },
   "outputs": [],
   "source": [
    "from requests_html import HTMLSession\n",
    "pages_uk = []\n",
    "\n",
    "for i in range(1, 10):\n",
    "    session = HTMLSession()\n",
    "\n",
    "    URL_UK = f\"https://www.gumtree.com/cars/uk/page{i}\"\n",
    "\n",
    "    page_html = session.get(URL_UK)\n",
    "    page_html = soup(page_html.content, \"lxml\")\n",
    "    pages_uk.append(page_html)\n"
   ]
  },
  {
   "cell_type": "code",
   "execution_count": 67,
   "metadata": {},
   "outputs": [],
   "source": [
    "pages_uk = pages_uk[:4]"
   ]
  },
  {
   "cell_type": "code",
   "execution_count": 69,
   "metadata": {},
   "outputs": [],
   "source": [
    "for i in range(5, 10):\n",
    "    session = HTMLSession()\n",
    "\n",
    "    URL_UK = f\"https://www.gumtree.com/cars/uk/page{i}\"\n",
    "\n",
    "    page_html = session.get(URL_UK)\n",
    "    page_html = soup(page_html.content, \"lxml\")\n",
    "    pages_uk.append(page_html)"
   ]
  },
  {
   "cell_type": "code",
   "execution_count": 77,
   "metadata": {},
   "outputs": [],
   "source": [
    "pages_uk = pages_uk[:-5]"
   ]
  },
  {
   "cell_type": "code",
   "execution_count": 75,
   "metadata": {},
   "outputs": [],
   "source": [
    "for i in range(8, 13):\n",
    "    session = HTMLSession()\n",
    "\n",
    "    URL_UK = f\"https://www.gumtree.com/cars/uk/page{i}\"\n",
    "\n",
    "    page_html = session.get(URL_UK)\n",
    "    page_html = soup(page_html.content, \"lxml\")\n",
    "    pages_uk.append(page_html)"
   ]
  },
  {
   "cell_type": "code",
   "execution_count": 78,
   "metadata": {
    "colab": {},
    "colab_type": "code",
    "id": "NO8ruMIQKV0n"
   },
   "outputs": [
    {
     "name": "stdout",
     "output_type": "stream",
     "text": [
      "25\n",
      "25\n",
      "25\n",
      "25\n",
      "25\n",
      "25\n",
      "25\n"
     ]
    }
   ],
   "source": [
    "f = open(\"cars_UK.csv\", \"w\")\n",
    "csv_headers = \"name;year;mileage;engine_size;fuel;other;price;currency\\n\"\n",
    "f.write(csv_headers)\n",
    "\n",
    "for page in pages_uk:\n",
    "    car_cards = page.findAll(\"li\", {\"class\":\"natural\"})\n",
    "    print(len(car_cards))\n",
    "    for card in car_cards:\n",
    "        car_name = card.find(\"h2\", {\"class\":\"listing-title\"}).text.replace(\"\\n\", \"\")\n",
    "        price = card.find(\"span\", {\"class\":\"listing-price\"}).text.replace(\"\\n\", \"\")\n",
    "        price = float(price[1:].replace(\",\", \"\"))\n",
    "        \n",
    "        engine_size = 0\n",
    "        year = 0\n",
    "        mileage = 0\n",
    "        fuel = \"\"\n",
    "        others = []\n",
    "        \n",
    "        features = card.find(\"ul\", {\"class\":\"listing-attributes inline-list\"}).findAll(\"li\")\n",
    "        for feature in features:\n",
    "            feature = feature.text\n",
    "        for feature in features:\n",
    "            feature = feature.text.replace(\"\\n\", \"\")\n",
    "            if \"Mileage\" in feature:\n",
    "                mileage = feature.replace(\"Mileage\", \"\")\n",
    "            elif \"Engine\" in feature:\n",
    "                engine_size = feature.replace(\"Engine size\", \"\")\n",
    "            elif \"Year\" in feature:\n",
    "                year = int(feature.replace(\"Year\", \"\"))\n",
    "            elif \"Fuel\" in feature:\n",
    "                fuel = feature.replace(\"Fuel type\", \"\")\n",
    "            else:\n",
    "                others.append(feature)\n",
    "        try:\n",
    "            f.write(f\"{car_name};{year};{mileage};{engine_size};{fuel};{others};{price};GBP\\n\")\n",
    "        except:\n",
    "            pass\n",
    "\n",
    "f.close()"
   ]
  },
  {
   "cell_type": "markdown",
   "metadata": {
    "colab_type": "text",
    "id": "JNhXJUY8PwEo"
   },
   "source": [
    "# GERMANY\n",
    "\n",
    "---\n",
    "---\n",
    "\n"
   ]
  },
  {
   "cell_type": "code",
   "execution_count": 106,
   "metadata": {
    "colab": {},
    "colab_type": "code",
    "id": "C84rQeCEMD2B"
   },
   "outputs": [],
   "source": [
    "# pages_de = []\n",
    "\n",
    "for i in range(11, 31):\n",
    "  URL_DE = f\"https://www.autoscout24.com/lst/?sort=standard&desc=0&ustate=N%2CU&size=20&page={i}&atype=C&\"\n",
    "\n",
    "  page_html = requests.get(URL_DE, headers=headers)\n",
    "  page_html = soup(page_html.content, \"lxml\")\n",
    "  pages_de.append(page_html)\n"
   ]
  },
  {
   "cell_type": "code",
   "execution_count": 108,
   "metadata": {
    "colab": {},
    "colab_type": "code",
    "id": "fxX4y4EFQCky"
   },
   "outputs": [],
   "source": [
    "f = open(\"cars_DE.csv\", \"w\")\n",
    "csv_headers = \"name;year;mileage;engine_power_kW;engine_power_hp;fuel;consumption;ecology;gearbox;price;currency\\n\"\n",
    "f.write(csv_headers)\n",
    "\n",
    "for page in pages_de:\n",
    "    car_cards = page.findAll(\"div\", {\"class\":\"cldt-summary-full-item-main\"})\n",
    "    for card in car_cards:\n",
    "        car_name = card.find(\"h2\", { \"class\":\"cldt-summary-makemodel\"}).text\n",
    "        price = (card.find(\"span\", {\"class\":\"cldt-price\"}).text.replace(\"€\", \"\").replace(\".-\", \"\").\n",
    "                        replace(\",\", \" \").replace(\"VAT deductible\", \"\").strip())\n",
    "\n",
    "        features = card.find(\"ul\", { \"data-item-name\":\"vehicle-details\"}).findAll(\"li\")\n",
    "        features = [feature.text.replace(\"\\n\", \"\") for feature in features]\n",
    "        \n",
    "        mileage = features[0].replace(\",\", \"\")\n",
    "        year = int(features[1].split(\"/\")[1])\n",
    "        engine_power_kw, engine_power_hp = features[2].replace(\")\", \"\").split(\"(\")\n",
    "        gearbox = features[5]\n",
    "        fuel = features[6]\n",
    "        consumption = features[7].split(\"(comb)\")[0]\n",
    "        ecology = features[8].split(\"(comb)\")[0]\n",
    "        \n",
    "        f.write(f\"{car_name};{year};{mileage};{engine_power_kw};{engine_power_hp};{fuel};{consumption};{ecology};{gearbox};{price};EUR\\n\")\n",
    "f.close()"
   ]
  },
  {
   "cell_type": "markdown",
   "metadata": {
    "colab_type": "text",
    "id": "QX9WeLr8a4l2"
   },
   "source": [
    "# UNITED STATES\n",
    "\n",
    "---\n",
    "---\n"
   ]
  },
  {
   "cell_type": "code",
   "execution_count": 121,
   "metadata": {
    "colab": {},
    "colab_type": "code",
    "id": "xtB5HYcgSXQJ"
   },
   "outputs": [],
   "source": [
    "pages_us = []\n",
    "\n",
    "for i in range(1, 21):\n",
    "    session = HTMLSession()\n",
    "    URL_US = f\"https://www.truecar.com/used-cars-for-sale/listings/?page={i}&sort[]=best_match\"\n",
    "\n",
    "    page_html = session.get(URL_US)\n",
    "    page_html = soup(page_html.content, \"lxml\")\n",
    "    pages_us.append(page_html)\n"
   ]
  },
  {
   "cell_type": "code",
   "execution_count": 147,
   "metadata": {
    "colab": {},
    "colab_type": "code",
    "id": "YYaw-4pnduxN"
   },
   "outputs": [],
   "source": [
    "f = open(\"cars_US.csv\", \"w\")\n",
    "csv_headers = \"name;year;mileage;nr_of_accidents;color_exterior;color_interior;price;currency\\n\"\n",
    "f.write(csv_headers)\n",
    "\n",
    "for page in pages_us:\n",
    "    car_cards = page.findAll(\"div\", {\"class\": \"vehicle-card-body\"})\n",
    "    for card in car_cards:\n",
    "        car_name = card.find(\"span\", {\"class\":\"vehicle-header-make-model text-truncate\"}).text\n",
    "        c_name = card.find(\"div\", {\"data-test\":\"vehicleCardTrim\"}).text\n",
    "        car_name += \" \" + c_name\n",
    "        \n",
    "        year = int(card.find(\"span\", {\"class\":\"vehicle-card-year\"}).text.replace(\" \", \"\"))\n",
    "        \n",
    "        try:\n",
    "            price = card.find(\"h4\", {\"data-test\":\"vehicleCardPricingBlockPrice\"}).text.replace(\",\", \"\")[1:]\n",
    "        except:\n",
    "            continue\n",
    "\n",
    "        \n",
    "        mileage = card.find(\"div\", {\"data-test\":\"vehicleMileage\"}).text.replace(\",\", \"\")\n",
    "        color_ext, color_int = (card.find(\"div\", {\"data-test\":\"vehicleCardColors\"}).\n",
    "                                           text.lower().replace(\"interior\", \"\").replace(\"exterior\", \"\").split(\",\"))\n",
    "        accidents = card.find(\"div\", {\"data-test\":\"vehicleCardCondition\"}).text.split(\",\")[0]\n",
    "        if accidents == \"No accidents\":\n",
    "            accidents = 0\n",
    "        else:\n",
    "            accidents = int(accidents.split(\" \")[0])\n",
    "        \n",
    "        f.write(f\"{car_name};{year};{mileage};{accidents};{color_ext};{color_int};{price};USD\\n\")\n",
    "\n",
    "f.close()"
   ]
  },
  {
   "cell_type": "markdown",
   "metadata": {
    "colab_type": "text",
    "id": "G9cJjouv-Gvv"
   },
   "source": [
    "# THE NETHERLANDS\n",
    "\n",
    "---\n",
    "\n",
    "\n",
    "\n",
    "---\n",
    "\n"
   ]
  },
  {
   "cell_type": "code",
   "execution_count": 148,
   "metadata": {
    "colab": {},
    "colab_type": "code",
    "id": "slKbKvf56qnI"
   },
   "outputs": [],
   "source": [
    "pages_nl = []\n",
    "\n",
    "for i in range(1, 21):\n",
    "    URL_NL = f\"https://www.trucksnl.com/passenger-cars?page={i}\"\n",
    "    page_html = requests.get(URL_NL, headers=headers)\n",
    "    page_html = soup(page_html.content, \"lxml\")\n",
    "    pages_nl.append(page_html)\n"
   ]
  },
  {
   "cell_type": "code",
   "execution_count": 178,
   "metadata": {
    "colab": {},
    "colab_type": "code",
    "id": "c03J_W9M-a_6"
   },
   "outputs": [],
   "source": [
    "f = open(\"cars_NL.csv\", \"w\")\n",
    "csv_headers = \"name;year;mileage;fuel;capacity;gearbox;price;currency\\n\"\n",
    "f.write(csv_headers)\n",
    "\n",
    "for page in pages_nl:\n",
    "    car_cards = page.findAll(\"div\", {\"class\":\"row no-gutters\"})\n",
    "    for card in car_cards:\n",
    "        car_name = card.find(\"a\", { \"class\":\"card-title\"}).text.strip()\n",
    "        price = card.find(\"div\", {\"class\":\"extra-information\"}).strong.text.replace(\",\", \"\").strip()\n",
    "        if price == \"Price on request\":\n",
    "            continue\n",
    "        else: price = price.replace(\",\", \"\")[1:]\n",
    "        features = card.find(\"ul\", {\"class\":\"list-properties\"}).findAll(\"li\")\n",
    "        \n",
    "        year = features[0].text\n",
    "        try:\n",
    "            year = int(year)\n",
    "        except:\n",
    "            year = \"-\"\n",
    "            \n",
    "        try:\n",
    "            mileage = features[1].text.replace(\",\", \"\")\n",
    "        except: pass\n",
    "        gearbox = features[2].text\n",
    "        fuel = features[3].text\n",
    "        capacity = features[4].text\n",
    "        \n",
    "        try:\n",
    "            f.write(f\"{car_name};{year};{mileage};{fuel};{capacity};{gearbox};{price};EUR\\n\")\n",
    "        except:\n",
    "            continue\n",
    "\n",
    "f.close()"
   ]
  },
  {
   "cell_type": "code",
   "execution_count": 0,
   "metadata": {
    "colab": {},
    "colab_type": "code",
    "id": "qs9fyYsbIVgt"
   },
   "outputs": [],
   "source": []
  }
 ],
 "metadata": {
  "colab": {
   "collapsed_sections": [],
   "name": "Car_Prices.ipynb",
   "provenance": []
  },
  "kernelspec": {
   "display_name": "Python 3",
   "language": "python",
   "name": "python3"
  },
  "language_info": {
   "codemirror_mode": {
    "name": "ipython",
    "version": 3
   },
   "file_extension": ".py",
   "mimetype": "text/x-python",
   "name": "python",
   "nbconvert_exporter": "python",
   "pygments_lexer": "ipython3",
   "version": "3.7.6"
  }
 },
 "nbformat": 4,
 "nbformat_minor": 1
}
