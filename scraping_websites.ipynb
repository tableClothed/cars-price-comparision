{
 "cells": [
  {
   "cell_type": "code",
   "execution_count": 0,
   "metadata": {
    "colab": {},
    "colab_type": "code",
    "id": "1mLFxcYZlMcU"
   },
   "outputs": [],
   "source": [
    "from bs4 import BeautifulSoup as soup\n",
    "from urllib.request import urlopen\n",
    "import requests\n",
    "import json\n",
    "\n",
    "headers = requests.utils.default_headers()\n",
    "headers.update({\n",
    "    'User-Agent': 'Mozilla/5.0 (X11; Ubuntu; Linux x86_64; rv:52.0) Gecko/20100101 Firefox/52.0',\n",
    "})\n",
    "\n",
    "cars = [\n",
    "    \"ford\",\n",
    "    \"bmw\",\n",
    "    \"fiat\",\n",
    "    \"toyota\",\n",
    "    \"peugeot\",\n",
    "    \"audi\",\n",
    "    \"mercedes\",\n",
    "    \"volvo\",\n",
    "    \"nissan\",\n",
    "    \"suzuki\",\n",
    "    \"volkswagen\",\n",
    "    \"renault\",\n",
    "    \"skoda\",\n",
    "    \"opel\"\n",
    "]"
   ]
  },
  {
   "cell_type": "markdown",
   "metadata": {
    "colab_type": "text",
    "id": "aWN4GST3PLKB"
   },
   "source": [
    "# POLAND\n",
    "\n",
    "---\n",
    "\n",
    "\n",
    "\n",
    "---\n",
    "\n",
    "\n",
    "\n"
   ]
  },
  {
   "cell_type": "code",
   "execution_count": 0,
   "metadata": {
    "colab": {},
    "colab_type": "code",
    "id": "0Bt12ScR6FjO"
   },
   "outputs": [],
   "source": [
    "pages_pl = []\n",
    "\n",
    "for i in cars:\n",
    "  URL_PL = \"https://www.otomoto.pl/osobowe/\" + i + \"/?search%5Bnew_used%5D=on\"\n",
    "\n",
    "  page_html = requests.get(URL_PL, headers=headers)\n",
    "  page_html = soup(page_html.content, \"lxml\")\n",
    "  pages_pl.append(page_html)"
   ]
  },
  {
   "cell_type": "code",
   "execution_count": 0,
   "metadata": {
    "colab": {},
    "colab_type": "code",
    "id": "34WvToRY-F3F"
   },
   "outputs": [],
   "source": [
    "f = open(\"cars_PL.csv\", \"w\")\n",
    "csv_headers = \"country;model;name;year;mileage;fuel;price\\n\"\n",
    "f.write(csv_headers)\n",
    "\n",
    "for page in pages_pl:\n",
    "  info_divs = page.findAll(\"div\", {\"class\":\"ds-details-container\"})\n",
    "  # print(info)\n",
    "  for info_div in info_divs:\n",
    "    name = info_div.find(\"a\", { \"class\":\"offer-title__link\"}).get(\"title\")\n",
    "\n",
    "    model = [j for j in cars if j in name.lower()]\n",
    "    if \"Škoda\" in name: model = [\"skoda\"]\n",
    "    if len(model) != 0: model = model[0]\n",
    "    else: break\n",
    "\n",
    "    year = info_div.find(\"li\", { \"data-code\":\"year\"}).span.text\n",
    "    mileage = info_div.find(\"li\", { \"data-code\":\"mileage\"}).span.text[:-2]\n",
    "    fuel = info_div.find(\"li\", { \"data-code\":\"fuel_type\"}).span.text\n",
    "    price = info_div.find(\"span\", {\"class\":\"ds-price-number\"}).span.text\n",
    "    \n",
    "    f.write(f\"PL;{model};{name};{year};{mileage};{fuel};{price}\\n\")\n",
    "\n",
    "f.close()"
   ]
  },
  {
   "cell_type": "markdown",
   "metadata": {
    "colab_type": "text",
    "id": "nU1V55XPJXTZ"
   },
   "source": [
    "# GREAT BRITAIN\n",
    "\n",
    "---\n",
    "\n",
    "\n",
    "\n",
    "---\n",
    "\n"
   ]
  },
  {
   "cell_type": "code",
   "execution_count": 0,
   "metadata": {
    "colab": {},
    "colab_type": "code",
    "id": "ySKResNn-o9S"
   },
   "outputs": [],
   "source": [
    "pages_uk = []\n",
    "\n",
    "for i in cars:\n",
    "  URL_UK = \"https://www.autotrader.co.uk/car-search?advertClassification=standard&make=\" + i.upper() + \"&postcode=BS11GB&onesearchad=Used&onesearchad=Nearly%20New&onesearchad=New&advertising-location=at_cars&is-quick-search=TRUE&page=1\"\n",
    "\n",
    "  page_html = requests.get(URL_UK, headers=headers)\n",
    "  page_html = soup(page_html.content, \"lxml\")\n",
    "  pages_uk.append(page_html)\n"
   ]
  },
  {
   "cell_type": "code",
   "execution_count": 0,
   "metadata": {
    "colab": {},
    "colab_type": "code",
    "id": "NO8ruMIQKV0n"
   },
   "outputs": [],
   "source": [
    "f = open(\"cars_UK.csv\", \"w\")\n",
    "csv_headers = \"country;model;name;year;mileage;fuel;price\\n\"\n",
    "f.write(csv_headers)\n",
    "\n",
    "\n",
    "for page in pages_uk:\n",
    "  info_divs = page.findAll(\"article\", {\"class\":\"sso-listing\"})\n",
    "  for info_div in info_divs:\n",
    "    name = info_div.find(\"h2\", { \"class\":\"listing-title\"}).a.text.replace(';', \"\").replace(',', \"\")\n",
    "    # print(name)\n",
    "\n",
    "    model = [j for j in cars if j in name.lower()]\n",
    "    if \"Škoda\" in name: model = [\"skoda\"]\n",
    "    if len(model) != 0: model = model[0]\n",
    "    else: break\n",
    "\n",
    "    auto_specs = info_div.find(\"ul\", { \"class\":\"listing-key-specs\"}).findAll(\"li\")\n",
    "    for y in auto_specs:\n",
    "      if \"20\" in y.text:\n",
    "        year = y.text[0:4].strip()\n",
    "      if \"miles\" in y.text:\n",
    "        mileage = y.text[:-5].replace(\",\", \" \").strip()\n",
    "      if \"petrol\" in y.text.lower() or \"diesel\" in y.text.lower():\n",
    "        fuel = y.text\n",
    "    price = info_div.find(\"div\", {\"class\":\"vehicle-price\"}).text.replace(\"£\", \"\").strip()\n",
    "    price = price.replace(',', '')\n",
    "\n",
    "    try:\n",
    "      price = int(price)\n",
    "    except:\n",
    "      break\n",
    "\n",
    "    f.write(f\"UK;{model};{name};{year};{mileage};{fuel};{price}\\n\")\n",
    "\n",
    "f.close()"
   ]
  },
  {
   "cell_type": "markdown",
   "metadata": {
    "colab_type": "text",
    "id": "JNhXJUY8PwEo"
   },
   "source": [
    "# GERMANY\n",
    "\n",
    "---\n",
    "---\n",
    "\n"
   ]
  },
  {
   "cell_type": "code",
   "execution_count": 0,
   "metadata": {
    "colab": {},
    "colab_type": "code",
    "id": "C84rQeCEMD2B"
   },
   "outputs": [],
   "source": [
    "pages_de = []\n",
    "\n",
    "for i in cars:\n",
    "  URL_DE = \"https://www.autoscout24.com/lst/\"+ i +\"?sort=age&desc=1&ustate=N%2CU&size=20&page=1&priceto=25000&pricefrom=500&atype=C&\"\n",
    "\n",
    "  page_html = requests.get(URL_DE, headers=headers)\n",
    "  page_html = soup(page_html.content, \"lxml\")\n",
    "  pages_de.append(page_html)\n"
   ]
  },
  {
   "cell_type": "code",
   "execution_count": 0,
   "metadata": {
    "colab": {},
    "colab_type": "code",
    "id": "fxX4y4EFQCky"
   },
   "outputs": [],
   "source": [
    "f = open(\"cars_DE.csv\", \"w\")\n",
    "csv_headers = \"country;model;name;year;mileage;fuel;price\\n\"\n",
    "f.write(csv_headers)\n",
    "\n",
    "\n",
    "for page in pages_de:\n",
    "  info_divs = page.findAll(\"div\", {\"class\":\"cldt-summary-full-item-main\"})\n",
    "  for info_div in info_divs:\n",
    "    name = info_div.find(\"h2\", { \"class\":\"cldt-summary-makemodel\"}).text\n",
    "    model = [j for j in cars if j in name.lower()]\n",
    "    if len(model) != 0: model = model[0]\n",
    "    else: break\n",
    "\n",
    "    auto_specs = info_div.find(\"ul\", { \"data-item-name\":\"vehicle-details\"}).findAll(\"li\")\n",
    "    year = auto_specs[1].text[4:].strip()\n",
    "    if year in \"(First Registration)\": break\n",
    "    mileage = auto_specs[0].text[:-3].replace(\",\", \"\").strip()\n",
    "    try:\n",
    "      mileage = int(mileage)\n",
    "    except:\n",
    "      break\n",
    "\n",
    "    fuel = auto_specs[6].text.strip()\n",
    "\n",
    "    price = info_div.find(\"span\", {\"class\":\"cldt-price\"}).text.replace(\"€\", \"\").replace(\".-\", \"\").replace(\",\", \" \").replace(\"VAT deductible\", \"\").strip()\n",
    "\n",
    "    f.write(f\"DE;{model};{name};{year};{mileage};{fuel};{price}\\n\")\n",
    "\n",
    "f.close()"
   ]
  },
  {
   "cell_type": "markdown",
   "metadata": {
    "colab_type": "text",
    "id": "QX9WeLr8a4l2"
   },
   "source": [
    "# UNITED STATES\n",
    "\n",
    "---\n",
    "---\n"
   ]
  },
  {
   "cell_type": "code",
   "execution_count": 0,
   "metadata": {
    "colab": {},
    "colab_type": "code",
    "id": "xtB5HYcgSXQJ"
   },
   "outputs": [],
   "source": [
    "pages_us = []\n",
    "\n",
    "for i in cars:\n",
    "  URL_US =\"https://www.auto.com/cars-for-sale/\"+i+\"?range=30&zc=90120\"\n",
    "\n",
    "  page_html = requests.get(URL_US, headers=headers)\n",
    "  page_html = soup(page_html.content, \"lxml\")\n",
    "  pages_us.append(page_html)\n"
   ]
  },
  {
   "cell_type": "code",
   "execution_count": 0,
   "metadata": {
    "colab": {},
    "colab_type": "code",
    "id": "LgHKeuN4TTYA"
   },
   "outputs": [],
   "source": [
    "url_list_us = []\n",
    "\n",
    "for page in pages_us:\n",
    "  scripts = page.findAll(\"script\", {\"type\":\"application/ld+json\"})[2:]\n",
    "  for scr in scripts[:1]:\n",
    "    json_data = json.loads(str(scr.text))\n",
    "    json_data = json_data['itemListElement']\n",
    "    for json_url in json_data:\n",
    "      url_list_us.append(json_url['url'])"
   ]
  },
  {
   "cell_type": "code",
   "execution_count": 0,
   "metadata": {
    "colab": {},
    "colab_type": "code",
    "id": "YYaw-4pnduxN"
   },
   "outputs": [],
   "source": [
    "f = open(\"cars_US.csv\", \"w\")\n",
    "csv_headers = \"country;model;name;year;mileage;price\\n\"\n",
    "f.write(csv_headers)\n",
    "\n",
    "for i in url_list_us:\n",
    "  URL_US = str(i)\n",
    "\n",
    "  page_html = requests.get(URL_US, headers=headers)\n",
    "  page_html = soup(page_html.content, \"lxml\")\n",
    "  for line in page_html.text.split('\\n'):\n",
    "    if \"auto_stats_vhr_report_enabled\" in line:\n",
    "      d = line.find(\"DEAL\")\n",
    "      line = line[d+4:len(line)]\n",
    "      try:\n",
    "        line = json.loads(line)\n",
    "      except:\n",
    "        break\n",
    "\n",
    "      mileage = line[\"mileageFromOdometer\"].replace(',', \"\").replace(\"miles\", \"\")\n",
    "      model = line['brand']['name'].lower()\n",
    "      name = line['name']\n",
    "      price = line['offers']['price']\n",
    "      year = line['modelDate']\n",
    "\n",
    "      f.write(f\"US;{model};{name};{year};{mileage};{price}\\n\")\n",
    "\n",
    "f.close()"
   ]
  },
  {
   "cell_type": "markdown",
   "metadata": {
    "colab_type": "text",
    "id": "G9cJjouv-Gvv"
   },
   "source": [
    "# THE NETHERLANDS\n",
    "\n",
    "---\n",
    "\n",
    "\n",
    "\n",
    "---\n",
    "\n"
   ]
  },
  {
   "cell_type": "code",
   "execution_count": 0,
   "metadata": {
    "colab": {},
    "colab_type": "code",
    "id": "slKbKvf56qnI"
   },
   "outputs": [],
   "source": [
    "pages_nl = []\n",
    "\n",
    "for i in cars:\n",
    "  URL_NL = \"https://www.trucksnl.com/passenger-cars/\" + i\n",
    "  for j in range(1, 6):\n",
    "    URL = URL_NL + \"?page=\" + str(j)\n",
    "    page_html = requests.get(URL, headers=headers)\n",
    "    page_html = soup(page_html.content, \"html\")\n",
    "    pages_nl.append(page_html)\n"
   ]
  },
  {
   "cell_type": "code",
   "execution_count": 0,
   "metadata": {
    "colab": {},
    "colab_type": "code",
    "id": "c03J_W9M-a_6"
   },
   "outputs": [],
   "source": [
    "f = open(\"cars_NL.csv\", \"w\")\n",
    "csv_headers = \"country;model;name;year;mileage;fuel;price\\n\"\n",
    "f.write(csv_headers)\n",
    "\n",
    "for page in pages_nl:\n",
    "  info_divs = page.findAll(\"div\", {\"class\":\"no-gutters\"})\n",
    "  for info_div in info_divs[15:]:\n",
    "    name = info_div.find(\"span\", { \"class\":\"type\"})\n",
    "    name = name.text.strip()\n",
    "    model = [j for j in cars if j in name.lower()]\n",
    "    model = model[0]\n",
    "\n",
    "    auto_specs = info_div.find(\"ul\", { \"class\":\"list-properties\"}).findAll(\"li\")\n",
    "\n",
    "    year = auto_specs[0].text.strip()\n",
    "    mileage = auto_specs[1].text[:-3].replace(\",\", \"\").strip()\n",
    "    fuel = auto_specs[3].text.strip()\n",
    "\n",
    "    try:\n",
    "      year = int(year)\n",
    "      mileage = int(mileage)\n",
    "      price = info_div.find(\"strong\", {\"class\":\"price\"}).text.strip().replace(\"€\", \"\").replace(\",\", \"\")\n",
    "    except:\n",
    "      break\n",
    "    \n",
    "\n",
    "    f.write(f\"NL;{model};{name};{year};{mileage};{fuel};{price}\\n\")\n",
    "\n",
    "f.close()"
   ]
  },
  {
   "cell_type": "code",
   "execution_count": 0,
   "metadata": {
    "colab": {},
    "colab_type": "code",
    "id": "qs9fyYsbIVgt"
   },
   "outputs": [],
   "source": []
  }
 ],
 "metadata": {
  "colab": {
   "collapsed_sections": [],
   "name": "Car_Prices.ipynb",
   "provenance": []
  },
  "kernelspec": {
   "display_name": "Python 3",
   "language": "python",
   "name": "python3"
  },
  "language_info": {
   "codemirror_mode": {
    "name": "ipython",
    "version": 3
   },
   "file_extension": ".py",
   "mimetype": "text/x-python",
   "name": "python",
   "nbconvert_exporter": "python",
   "pygments_lexer": "ipython3",
   "version": "3.7.4"
  }
 },
 "nbformat": 4,
 "nbformat_minor": 1
}
