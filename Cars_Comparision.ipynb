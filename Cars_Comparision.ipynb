{
 "cells": [
  {
   "cell_type": "code",
   "execution_count": 278,
   "metadata": {},
   "outputs": [],
   "source": [
    "import numpy as np\n",
    "import pandas as pd\n",
    "import scipy.stats as norm\n",
    "import seaborn\n",
    "\n",
    "seaborn.set()\n",
    "\n",
    "CARS = [\n",
    "    \"ford\",\n",
    "    \"bmw\",\n",
    "    \"fiat\",\n",
    "    \"toyota\",\n",
    "    \"peugeot\",\n",
    "    \"audi\",\n",
    "    \"mercedes\",\n",
    "    \"volvo\",\n",
    "    \"nissan\",\n",
    "    \"suzuki\",\n",
    "    \"volkswagen\",\n",
    "    \"renault\",\n",
    "    \"skoda\",\n",
    "    \"opel\"\n",
    "]"
   ]
  },
  {
   "cell_type": "code",
   "execution_count": 248,
   "metadata": {},
   "outputs": [
    {
     "data": {
      "text/html": [
       "<div>\n",
       "<style scoped>\n",
       "    .dataframe tbody tr th:only-of-type {\n",
       "        vertical-align: middle;\n",
       "    }\n",
       "\n",
       "    .dataframe tbody tr th {\n",
       "        vertical-align: top;\n",
       "    }\n",
       "\n",
       "    .dataframe thead th {\n",
       "        text-align: right;\n",
       "    }\n",
       "</style>\n",
       "<table border=\"1\" class=\"dataframe\">\n",
       "  <thead>\n",
       "    <tr style=\"text-align: right;\">\n",
       "      <th></th>\n",
       "      <th>country</th>\n",
       "      <th>model</th>\n",
       "      <th>name</th>\n",
       "      <th>year</th>\n",
       "      <th>mileage</th>\n",
       "      <th>fuel</th>\n",
       "      <th>price</th>\n",
       "    </tr>\n",
       "  </thead>\n",
       "  <tbody>\n",
       "    <tr>\n",
       "      <td>0</td>\n",
       "      <td>PL</td>\n",
       "      <td>ford</td>\n",
       "      <td>Ford Kuga</td>\n",
       "      <td>2018</td>\n",
       "      <td>172 890</td>\n",
       "      <td>Diesel</td>\n",
       "      <td>67 800</td>\n",
       "    </tr>\n",
       "    <tr>\n",
       "      <td>1</td>\n",
       "      <td>PL</td>\n",
       "      <td>ford</td>\n",
       "      <td>Ford Kuga</td>\n",
       "      <td>2010</td>\n",
       "      <td>101 000</td>\n",
       "      <td>Diesel</td>\n",
       "      <td>34 900</td>\n",
       "    </tr>\n",
       "    <tr>\n",
       "      <td>2</td>\n",
       "      <td>PL</td>\n",
       "      <td>ford</td>\n",
       "      <td>Ford Fiesta Mk7</td>\n",
       "      <td>2010</td>\n",
       "      <td>124 590</td>\n",
       "      <td>Benzyna</td>\n",
       "      <td>16 900</td>\n",
       "    </tr>\n",
       "    <tr>\n",
       "      <td>3</td>\n",
       "      <td>PL</td>\n",
       "      <td>ford</td>\n",
       "      <td>Ford Galaxy 2.0</td>\n",
       "      <td>2010</td>\n",
       "      <td>257 000</td>\n",
       "      <td>Diesel</td>\n",
       "      <td>31 500</td>\n",
       "    </tr>\n",
       "    <tr>\n",
       "      <td>4</td>\n",
       "      <td>PL</td>\n",
       "      <td>ford</td>\n",
       "      <td>Ford Kuga 2.0</td>\n",
       "      <td>2009</td>\n",
       "      <td>218 000</td>\n",
       "      <td>Diesel</td>\n",
       "      <td>36 600</td>\n",
       "    </tr>\n",
       "  </tbody>\n",
       "</table>\n",
       "</div>"
      ],
      "text/plain": [
       "  country model             name  year   mileage     fuel   price\n",
       "0      PL  ford        Ford Kuga  2018  172 890    Diesel  67 800\n",
       "1      PL  ford        Ford Kuga  2010  101 000    Diesel  34 900\n",
       "2      PL  ford  Ford Fiesta Mk7  2010  124 590   Benzyna  16 900\n",
       "3      PL  ford  Ford Galaxy 2.0  2010  257 000    Diesel  31 500\n",
       "4      PL  ford    Ford Kuga 2.0  2009  218 000    Diesel  36 600"
      ]
     },
     "execution_count": 248,
     "metadata": {},
     "output_type": "execute_result"
    }
   ],
   "source": [
    "columns = ['country', 'model', 'year', 'mileage', 'price']\n",
    "\n",
    "cars_pl.head()"
   ]
  },
  {
   "cell_type": "code",
   "execution_count": 249,
   "metadata": {},
   "outputs": [],
   "source": [
    "from currency_converter import CurrencyConverter\n",
    "\n",
    "curr = CurrencyConverter()"
   ]
  },
  {
   "cell_type": "code",
   "execution_count": 266,
   "metadata": {},
   "outputs": [
    {
     "data": {
      "text/html": [
       "<div>\n",
       "<style scoped>\n",
       "    .dataframe tbody tr th:only-of-type {\n",
       "        vertical-align: middle;\n",
       "    }\n",
       "\n",
       "    .dataframe tbody tr th {\n",
       "        vertical-align: top;\n",
       "    }\n",
       "\n",
       "    .dataframe thead th {\n",
       "        text-align: right;\n",
       "    }\n",
       "</style>\n",
       "<table border=\"1\" class=\"dataframe\">\n",
       "  <thead>\n",
       "    <tr style=\"text-align: right;\">\n",
       "      <th></th>\n",
       "      <th>country</th>\n",
       "      <th>model</th>\n",
       "      <th>name</th>\n",
       "      <th>year</th>\n",
       "      <th>mileage</th>\n",
       "      <th>fuel</th>\n",
       "      <th>price</th>\n",
       "      <th>euros</th>\n",
       "    </tr>\n",
       "  </thead>\n",
       "  <tbody>\n",
       "    <tr>\n",
       "      <td>0</td>\n",
       "      <td>PL</td>\n",
       "      <td>ford</td>\n",
       "      <td>Ford Kuga</td>\n",
       "      <td>2018</td>\n",
       "      <td>172890.0</td>\n",
       "      <td>Diesel</td>\n",
       "      <td>67800.0</td>\n",
       "      <td>15828.18</td>\n",
       "    </tr>\n",
       "    <tr>\n",
       "      <td>1</td>\n",
       "      <td>PL</td>\n",
       "      <td>ford</td>\n",
       "      <td>Ford Kuga</td>\n",
       "      <td>2010</td>\n",
       "      <td>101000.0</td>\n",
       "      <td>Diesel</td>\n",
       "      <td>34900.0</td>\n",
       "      <td>8147.54</td>\n",
       "    </tr>\n",
       "    <tr>\n",
       "      <td>2</td>\n",
       "      <td>PL</td>\n",
       "      <td>ford</td>\n",
       "      <td>Ford Fiesta Mk7</td>\n",
       "      <td>2010</td>\n",
       "      <td>124590.0</td>\n",
       "      <td>Benzyna</td>\n",
       "      <td>16900.0</td>\n",
       "      <td>3945.37</td>\n",
       "    </tr>\n",
       "    <tr>\n",
       "      <td>3</td>\n",
       "      <td>PL</td>\n",
       "      <td>ford</td>\n",
       "      <td>Ford Galaxy 2.0</td>\n",
       "      <td>2010</td>\n",
       "      <td>257000.0</td>\n",
       "      <td>Diesel</td>\n",
       "      <td>31500.0</td>\n",
       "      <td>7353.80</td>\n",
       "    </tr>\n",
       "    <tr>\n",
       "      <td>4</td>\n",
       "      <td>PL</td>\n",
       "      <td>ford</td>\n",
       "      <td>Ford Kuga 2.0</td>\n",
       "      <td>2009</td>\n",
       "      <td>218000.0</td>\n",
       "      <td>Diesel</td>\n",
       "      <td>36600.0</td>\n",
       "      <td>8544.41</td>\n",
       "    </tr>\n",
       "  </tbody>\n",
       "</table>\n",
       "</div>"
      ],
      "text/plain": [
       "  country model             name  year   mileage     fuel    price     euros\n",
       "0      PL  ford        Ford Kuga  2018  172890.0   Diesel  67800.0  15828.18\n",
       "1      PL  ford        Ford Kuga  2010  101000.0   Diesel  34900.0   8147.54\n",
       "2      PL  ford  Ford Fiesta Mk7  2010  124590.0  Benzyna  16900.0   3945.37\n",
       "3      PL  ford  Ford Galaxy 2.0  2010  257000.0   Diesel  31500.0   7353.80\n",
       "4      PL  ford    Ford Kuga 2.0  2009  218000.0   Diesel  36600.0   8544.41"
      ]
     },
     "execution_count": 266,
     "metadata": {},
     "output_type": "execute_result"
    }
   ],
   "source": [
    "cars_pl = pd.read_csv(\"CARS_PL.csv\", sep=\";\")\n",
    "\n",
    "cars_pl['price'] = cars_pl['price'].str.replace(\" \", \"\").astype(np.float64)\n",
    "cars_pl['mileage'] = cars_pl['mileage'].str.replace(\" \", \"\").astype(np.float64)\n",
    "\n",
    "for col_id, row in cars_pl.iterrows():\n",
    "    pr = row['price']\n",
    "    euro = curr.convert(pr, 'PLN', \"EUR\")\n",
    "    cars_pl.at[col_id, 'euros'] = round(euro, 2)\n",
    "    \n",
    "cars_pl.head(5)"
   ]
  },
  {
   "cell_type": "code",
   "execution_count": 267,
   "metadata": {},
   "outputs": [
    {
     "data": {
      "text/html": [
       "<div>\n",
       "<style scoped>\n",
       "    .dataframe tbody tr th:only-of-type {\n",
       "        vertical-align: middle;\n",
       "    }\n",
       "\n",
       "    .dataframe tbody tr th {\n",
       "        vertical-align: top;\n",
       "    }\n",
       "\n",
       "    .dataframe thead th {\n",
       "        text-align: right;\n",
       "    }\n",
       "</style>\n",
       "<table border=\"1\" class=\"dataframe\">\n",
       "  <thead>\n",
       "    <tr style=\"text-align: right;\">\n",
       "      <th></th>\n",
       "      <th>country</th>\n",
       "      <th>model</th>\n",
       "      <th>name</th>\n",
       "      <th>year</th>\n",
       "      <th>mileage</th>\n",
       "      <th>fuel</th>\n",
       "      <th>price</th>\n",
       "      <th>euros</th>\n",
       "    </tr>\n",
       "  </thead>\n",
       "  <tbody>\n",
       "    <tr>\n",
       "      <td>0</td>\n",
       "      <td>UK</td>\n",
       "      <td>ford</td>\n",
       "      <td>Ford Mondeo 2.0 TDCi 140 Zetec 5 door</td>\n",
       "      <td>2013</td>\n",
       "      <td>83329.0</td>\n",
       "      <td>Diesel</td>\n",
       "      <td>4989.0</td>\n",
       "      <td>5974.13</td>\n",
       "    </tr>\n",
       "    <tr>\n",
       "      <td>1</td>\n",
       "      <td>UK</td>\n",
       "      <td>ford</td>\n",
       "      <td>Ford Fiesta 1.25 Zetec 3dr</td>\n",
       "      <td>2005</td>\n",
       "      <td>75000.0</td>\n",
       "      <td>Petrol</td>\n",
       "      <td>850.0</td>\n",
       "      <td>1017.84</td>\n",
       "    </tr>\n",
       "    <tr>\n",
       "      <td>2</td>\n",
       "      <td>UK</td>\n",
       "      <td>ford</td>\n",
       "      <td>Ford Focus 1.6 i 16v Ghia 5dr</td>\n",
       "      <td>2002</td>\n",
       "      <td>159000.0</td>\n",
       "      <td>Petrol</td>\n",
       "      <td>200.0</td>\n",
       "      <td>239.49</td>\n",
       "    </tr>\n",
       "    <tr>\n",
       "      <td>3</td>\n",
       "      <td>UK</td>\n",
       "      <td>ford</td>\n",
       "      <td>Ford Focus 1.6 TDCi ECOnetic DPF 5dr</td>\n",
       "      <td>2010</td>\n",
       "      <td>129300.0</td>\n",
       "      <td>Diesel</td>\n",
       "      <td>1495.0</td>\n",
       "      <td>1790.20</td>\n",
       "    </tr>\n",
       "    <tr>\n",
       "      <td>4</td>\n",
       "      <td>UK</td>\n",
       "      <td>ford</td>\n",
       "      <td>Ford C-Max 1.6 16v Style 5dr</td>\n",
       "      <td>2008</td>\n",
       "      <td>82000.0</td>\n",
       "      <td>Petrol</td>\n",
       "      <td>1490.0</td>\n",
       "      <td>1784.22</td>\n",
       "    </tr>\n",
       "  </tbody>\n",
       "</table>\n",
       "</div>"
      ],
      "text/plain": [
       "  country model                                   name  year   mileage  \\\n",
       "0      UK  ford  Ford Mondeo 2.0 TDCi 140 Zetec 5 door  2013   83329.0   \n",
       "1      UK  ford             Ford Fiesta 1.25 Zetec 3dr  2005   75000.0   \n",
       "2      UK  ford          Ford Focus 1.6 i 16v Ghia 5dr  2002  159000.0   \n",
       "3      UK  ford   Ford Focus 1.6 TDCi ECOnetic DPF 5dr  2010  129300.0   \n",
       "4      UK  ford           Ford C-Max 1.6 16v Style 5dr  2008   82000.0   \n",
       "\n",
       "     fuel   price    euros  \n",
       "0  Diesel  4989.0  5974.13  \n",
       "1  Petrol   850.0  1017.84  \n",
       "2  Petrol   200.0   239.49  \n",
       "3  Diesel  1495.0  1790.20  \n",
       "4  Petrol  1490.0  1784.22  "
      ]
     },
     "execution_count": 267,
     "metadata": {},
     "output_type": "execute_result"
    }
   ],
   "source": [
    "cars_uk = pd.read_csv(\"CARS_UK.csv\",sep=\";\")\n",
    "    \n",
    "cars_uk['price'] = cars_uk['price'].astype(np.float64)\n",
    "cars_uk['mileage'] = cars_uk['mileage'].str.replace(\" \", \"\").astype(np.float64)\n",
    "\n",
    "for col_id, row in cars_uk.iterrows():\n",
    "    pr = row['price']\n",
    "    euro = curr.convert(pr, 'GBP', \"EUR\")\n",
    "    cars_uk.at[col_id, 'euros'] = round(euro, 2)\n",
    "\n",
    "cars_uk.head(5)"
   ]
  },
  {
   "cell_type": "code",
   "execution_count": 269,
   "metadata": {},
   "outputs": [
    {
     "data": {
      "text/html": [
       "<div>\n",
       "<style scoped>\n",
       "    .dataframe tbody tr th:only-of-type {\n",
       "        vertical-align: middle;\n",
       "    }\n",
       "\n",
       "    .dataframe tbody tr th {\n",
       "        vertical-align: top;\n",
       "    }\n",
       "\n",
       "    .dataframe thead th {\n",
       "        text-align: right;\n",
       "    }\n",
       "</style>\n",
       "<table border=\"1\" class=\"dataframe\">\n",
       "  <thead>\n",
       "    <tr style=\"text-align: right;\">\n",
       "      <th></th>\n",
       "      <th>country</th>\n",
       "      <th>model</th>\n",
       "      <th>name</th>\n",
       "      <th>year</th>\n",
       "      <th>mileage</th>\n",
       "      <th>price</th>\n",
       "      <th>euros</th>\n",
       "    </tr>\n",
       "  </thead>\n",
       "  <tbody>\n",
       "    <tr>\n",
       "      <td>0</td>\n",
       "      <td>US</td>\n",
       "      <td>ford</td>\n",
       "      <td>Ford Explorer XLT</td>\n",
       "      <td>2017</td>\n",
       "      <td>34863.0</td>\n",
       "      <td>25089.0</td>\n",
       "      <td>23228.40</td>\n",
       "    </tr>\n",
       "    <tr>\n",
       "      <td>1</td>\n",
       "      <td>US</td>\n",
       "      <td>ford</td>\n",
       "      <td>Ford Explorer Platinum</td>\n",
       "      <td>2016</td>\n",
       "      <td>39710.0</td>\n",
       "      <td>29386.0</td>\n",
       "      <td>27206.74</td>\n",
       "    </tr>\n",
       "    <tr>\n",
       "      <td>2</td>\n",
       "      <td>US</td>\n",
       "      <td>ford</td>\n",
       "      <td>Ford Taurus Limited</td>\n",
       "      <td>2019</td>\n",
       "      <td>46484.0</td>\n",
       "      <td>19963.0</td>\n",
       "      <td>18482.55</td>\n",
       "    </tr>\n",
       "    <tr>\n",
       "      <td>3</td>\n",
       "      <td>US</td>\n",
       "      <td>ford</td>\n",
       "      <td>Ford Explorer XLT</td>\n",
       "      <td>2014</td>\n",
       "      <td>139341.0</td>\n",
       "      <td>12990.0</td>\n",
       "      <td>12026.66</td>\n",
       "    </tr>\n",
       "    <tr>\n",
       "      <td>4</td>\n",
       "      <td>US</td>\n",
       "      <td>ford</td>\n",
       "      <td>Ford Taurus Limited</td>\n",
       "      <td>2016</td>\n",
       "      <td>53555.0</td>\n",
       "      <td>17995.0</td>\n",
       "      <td>16660.49</td>\n",
       "    </tr>\n",
       "  </tbody>\n",
       "</table>\n",
       "</div>"
      ],
      "text/plain": [
       "  country model                    name  year   mileage    price     euros\n",
       "0      US  ford       Ford Explorer XLT  2017   34863.0  25089.0  23228.40\n",
       "1      US  ford  Ford Explorer Platinum  2016   39710.0  29386.0  27206.74\n",
       "2      US  ford     Ford Taurus Limited  2019   46484.0  19963.0  18482.55\n",
       "3      US  ford       Ford Explorer XLT  2014  139341.0  12990.0  12026.66\n",
       "4      US  ford     Ford Taurus Limited  2016   53555.0  17995.0  16660.49"
      ]
     },
     "execution_count": 269,
     "metadata": {},
     "output_type": "execute_result"
    }
   ],
   "source": [
    "cars_us = pd.read_csv(\"CARS_US.csv\", sep=\";\")\n",
    "\n",
    "cars_us['price'] = cars_us['price'].astype(np.float64)\n",
    "cars_us['mileage'] = cars_us['mileage'].astype(np.float64)\n",
    "\n",
    "for col_id, row in cars_us.iterrows():\n",
    "    pr = row['price']\n",
    "    euro = curr.convert(int(pr), 'USD', \"EUR\")\n",
    "    cars_us.at[col_id, 'euros'] = round(euro, 2)\n",
    "    \n",
    "cars_us.head(5)"
   ]
  },
  {
   "cell_type": "code",
   "execution_count": 274,
   "metadata": {},
   "outputs": [
    {
     "data": {
      "text/html": [
       "<div>\n",
       "<style scoped>\n",
       "    .dataframe tbody tr th:only-of-type {\n",
       "        vertical-align: middle;\n",
       "    }\n",
       "\n",
       "    .dataframe tbody tr th {\n",
       "        vertical-align: top;\n",
       "    }\n",
       "\n",
       "    .dataframe thead th {\n",
       "        text-align: right;\n",
       "    }\n",
       "</style>\n",
       "<table border=\"1\" class=\"dataframe\">\n",
       "  <thead>\n",
       "    <tr style=\"text-align: right;\">\n",
       "      <th></th>\n",
       "      <th>country</th>\n",
       "      <th>model</th>\n",
       "      <th>name</th>\n",
       "      <th>year</th>\n",
       "      <th>mileage</th>\n",
       "      <th>fuel</th>\n",
       "      <th>price</th>\n",
       "    </tr>\n",
       "  </thead>\n",
       "  <tbody>\n",
       "    <tr>\n",
       "      <td>0</td>\n",
       "      <td>DE</td>\n",
       "      <td>ford</td>\n",
       "      <td>Ford Focus 1.6 Ghia*HU/AU bis</td>\n",
       "      <td>2020</td>\n",
       "      <td>231658.0</td>\n",
       "      <td>Petrol</td>\n",
       "      <td>899.0</td>\n",
       "    </tr>\n",
       "    <tr>\n",
       "      <td>1</td>\n",
       "      <td>DE</td>\n",
       "      <td>bmw</td>\n",
       "      <td>BMW 116</td>\n",
       "      <td>2015</td>\n",
       "      <td>99649.0</td>\n",
       "      <td>Diesel</td>\n",
       "      <td>15300.0</td>\n",
       "    </tr>\n",
       "    <tr>\n",
       "      <td>2</td>\n",
       "      <td>DE</td>\n",
       "      <td>bmw</td>\n",
       "      <td>BMW 420</td>\n",
       "      <td>2016</td>\n",
       "      <td>89322.0</td>\n",
       "      <td>Diesel</td>\n",
       "      <td>20990.0</td>\n",
       "    </tr>\n",
       "    <tr>\n",
       "      <td>3</td>\n",
       "      <td>DE</td>\n",
       "      <td>bmw</td>\n",
       "      <td>BMW X1</td>\n",
       "      <td>2013</td>\n",
       "      <td>105000.0</td>\n",
       "      <td>Diesel</td>\n",
       "      <td>11890.0</td>\n",
       "    </tr>\n",
       "    <tr>\n",
       "      <td>4</td>\n",
       "      <td>DE</td>\n",
       "      <td>bmw</td>\n",
       "      <td>BMW 135</td>\n",
       "      <td>2012</td>\n",
       "      <td>153000.0</td>\n",
       "      <td>Gasoline</td>\n",
       "      <td>18500.0</td>\n",
       "    </tr>\n",
       "  </tbody>\n",
       "</table>\n",
       "</div>"
      ],
      "text/plain": [
       "  country model                           name  year   mileage      fuel  \\\n",
       "0      DE  ford  Ford Focus 1.6 Ghia*HU/AU bis  2020  231658.0    Petrol   \n",
       "1      DE   bmw                        BMW 116  2015   99649.0    Diesel   \n",
       "2      DE   bmw                        BMW 420  2016   89322.0    Diesel   \n",
       "3      DE   bmw                         BMW X1  2013  105000.0    Diesel   \n",
       "4      DE   bmw                        BMW 135  2012  153000.0  Gasoline   \n",
       "\n",
       "     price  \n",
       "0    899.0  \n",
       "1  15300.0  \n",
       "2  20990.0  \n",
       "3  11890.0  \n",
       "4  18500.0  "
      ]
     },
     "execution_count": 274,
     "metadata": {},
     "output_type": "execute_result"
    }
   ],
   "source": [
    "cars_de = pd.read_csv(\"CARS_DE.csv\", sep=\";\")\n",
    "\n",
    "cars_de['price'] = cars_de['price'].str.replace(\" \", \"\").astype(np.float64)\n",
    "cars_de['mileage'] = cars_de['mileage'].astype(np.float64)\n",
    "    \n",
    "cars_de.head(5)"
   ]
  },
  {
   "cell_type": "code",
   "execution_count": 277,
   "metadata": {},
   "outputs": [
    {
     "data": {
      "text/html": [
       "<div>\n",
       "<style scoped>\n",
       "    .dataframe tbody tr th:only-of-type {\n",
       "        vertical-align: middle;\n",
       "    }\n",
       "\n",
       "    .dataframe tbody tr th {\n",
       "        vertical-align: top;\n",
       "    }\n",
       "\n",
       "    .dataframe thead th {\n",
       "        text-align: right;\n",
       "    }\n",
       "</style>\n",
       "<table border=\"1\" class=\"dataframe\">\n",
       "  <thead>\n",
       "    <tr style=\"text-align: right;\">\n",
       "      <th></th>\n",
       "      <th>country</th>\n",
       "      <th>model</th>\n",
       "      <th>name</th>\n",
       "      <th>year</th>\n",
       "      <th>mileage</th>\n",
       "      <th>fuel</th>\n",
       "      <th>price</th>\n",
       "    </tr>\n",
       "  </thead>\n",
       "  <tbody>\n",
       "    <tr>\n",
       "      <td>0</td>\n",
       "      <td>NL</td>\n",
       "      <td>ford</td>\n",
       "      <td>Ford FIESTA FIESTA airco</td>\n",
       "      <td>2000</td>\n",
       "      <td>122967.0</td>\n",
       "      <td>Petrol</td>\n",
       "      <td>850.0</td>\n",
       "    </tr>\n",
       "    <tr>\n",
       "      <td>1</td>\n",
       "      <td>NL</td>\n",
       "      <td>ford</td>\n",
       "      <td>Ford Fiesta 1.3-8V STYLE</td>\n",
       "      <td>2006</td>\n",
       "      <td>141118.0</td>\n",
       "      <td>Petrol</td>\n",
       "      <td>900.0</td>\n",
       "    </tr>\n",
       "    <tr>\n",
       "      <td>2</td>\n",
       "      <td>NL</td>\n",
       "      <td>ford</td>\n",
       "      <td>Ford Transit 300M 2.2 TDCI L2H2 9 SITZ. PERSON...</td>\n",
       "      <td>2011</td>\n",
       "      <td>257841.0</td>\n",
       "      <td>Diesel</td>\n",
       "      <td>4950.0</td>\n",
       "    </tr>\n",
       "    <tr>\n",
       "      <td>3</td>\n",
       "      <td>NL</td>\n",
       "      <td>ford</td>\n",
       "      <td>Ford fusion 1.4-16v Automaat Airco 1e eigenaar...</td>\n",
       "      <td>2003</td>\n",
       "      <td>90572.0</td>\n",
       "      <td>Petrol</td>\n",
       "      <td>2750.0</td>\n",
       "    </tr>\n",
       "    <tr>\n",
       "      <td>4</td>\n",
       "      <td>NL</td>\n",
       "      <td>ford</td>\n",
       "      <td>Ford Mondeo 2.0 TDi 16v. Airco</td>\n",
       "      <td>2001</td>\n",
       "      <td>306040.0</td>\n",
       "      <td>Diesel</td>\n",
       "      <td>750.0</td>\n",
       "    </tr>\n",
       "  </tbody>\n",
       "</table>\n",
       "</div>"
      ],
      "text/plain": [
       "  country model                                               name  year  \\\n",
       "0      NL  ford                           Ford FIESTA FIESTA airco  2000   \n",
       "1      NL  ford                           Ford Fiesta 1.3-8V STYLE  2006   \n",
       "2      NL  ford  Ford Transit 300M 2.2 TDCI L2H2 9 SITZ. PERSON...  2011   \n",
       "3      NL  ford  Ford fusion 1.4-16v Automaat Airco 1e eigenaar...  2003   \n",
       "4      NL  ford                     Ford Mondeo 2.0 TDi 16v. Airco  2001   \n",
       "\n",
       "    mileage    fuel   price  \n",
       "0  122967.0  Petrol   850.0  \n",
       "1  141118.0  Petrol   900.0  \n",
       "2  257841.0  Diesel  4950.0  \n",
       "3   90572.0  Petrol  2750.0  \n",
       "4  306040.0  Diesel   750.0  "
      ]
     },
     "execution_count": 277,
     "metadata": {},
     "output_type": "execute_result"
    }
   ],
   "source": [
    "cars_nl = pd.read_csv(\"CARS_NL.csv\", sep=\";\")\n",
    "\n",
    "cars_nl['price'] = cars_nl['price'].astype(np.float64)\n",
    "cars_nl['mileage'] = cars_nl['mileage'].astype(np.float64)\n",
    "\n",
    "cars_nl.head(5)"
   ]
  },
  {
   "cell_type": "code",
   "execution_count": 281,
   "metadata": {},
   "outputs": [],
   "source": [
    "cars_model_mean_pl = (cars_pl.query(\"model in @CARS\")\n",
    "                .groupby('model', sort=False)['euros']\n",
    "                .agg(['size', 'mean'])\n",
    "                .round({'mean':2})\n",
    ")\n",
    "\n",
    "cars_model_mean_nl = (cars_nl.query(\"model in @CARS\")\n",
    "                .groupby('model', sort=False)['price']\n",
    "                .agg(['size', 'mean'])\n",
    "                .round({'mean':2})\n",
    ")\n",
    "\n",
    "cars_model_mean_uk = (cars_uk.query(\"model in @CARS\")\n",
    "                .groupby('model', sort=False)['euros']\n",
    "                .agg(['size', 'mean'])\n",
    "                .round({'mean':2})\n",
    ")\n",
    "\n",
    "cars_model_mean_us = (cars_us.query(\"model in @CARS\")\n",
    "                .groupby('model', sort=False)['euros']\n",
    "                .agg(['size', 'mean'])\n",
    "                .round({'mean':2})\n",
    ")\n",
    "\n",
    "cars_model_mean_de = (cars_de.query(\"model in @CARS\")\n",
    "                .groupby('model', sort=False)['price']\n",
    "                .agg(['size', 'mean'])\n",
    "                .round({'mean':2})\n",
    ")"
   ]
  },
  {
   "cell_type": "code",
   "execution_count": 295,
   "metadata": {},
   "outputs": [
    {
     "data": {
      "image/png": "[encoded data removed]",
      "text/plain": [
       "<Figure size 864x360 with 1 Axes>"
      ]
     },
     "metadata": {},
     "output_type": "display_data"
    }
   ],
   "source": [
    "df= pd.DataFrame({'Model':cars_model_mean_pl.index, 'Price (€)':cars_model_mean_pl['mean']})\n",
    "ax = df.plot(kind=\"bar\", x='Model', y='Price (€)', rot=0, figsize=(12, 5)).margins(10, None)"
   ]
  },
  {
   "cell_type": "code",
   "execution_count": 296,
   "metadata": {},
   "outputs": [
    {
     "data": {
      "image/png": "[encoded data removed]",
      "text/plain": [
       "<Figure size 864x360 with 1 Axes>"
      ]
     },
     "metadata": {},
     "output_type": "display_data"
    }
   ],
   "source": [
    "df = pd.DataFrame({'Poland':cars_model_mean_pl['mean'],\n",
    "                        'USA':cars_model_mean_us['mean'],\n",
    "                       'UK':cars_model_mean_uk['mean'],\n",
    "                       'The Netherlands':cars_model_mean_nl['mean'],\n",
    "                       'Germany':cars_model_mean_de['mean']},\n",
    "                       index=(cars_model_mean_pl.index))\n",
    "ax = df.plot(kind=\"bar\", rot=0, figsize=(12, 5)).margins(10, None)\n"
   ]
  },
  {
   "cell_type": "code",
   "execution_count": 319,
   "metadata": {},
   "outputs": [
    {
     "data": {
      "text/plain": [
       "count    16.92\n",
       "dtype: float64"
      ]
     },
     "execution_count": 319,
     "metadata": {},
     "output_type": "execute_result"
    }
   ],
   "source": [
    "cars_year_count_pl = (cars_pl.groupby('year', sort=True)['model'].agg(['count']))\n",
    "cars_year_count_nl = (cars_nl.groupby('year', sort=True)['model'].agg(['count']))\n",
    "cars_year_count_de = (cars_de.groupby('year', sort=True)['model'].agg(['count']))\n",
    "cars_year_count_uk = (cars_uk.groupby('year', sort=True)['model'].agg(['count']))\n",
    "cars_year_count_us = (cars_us.groupby('year', sort=True)['model'].agg(['count']))\n",
    "\n",
    "cars_year_count_pl.mean()"
   ]
  },
  {
   "cell_type": "code",
   "execution_count": 330,
   "metadata": {},
   "outputs": [
    {
     "data": {
      "image/png": "[encoded data removed]",
      "text/plain": [
       "<Figure size 864x360 with 1 Axes>"
      ]
     },
     "metadata": {},
     "output_type": "display_data"
    }
   ],
   "source": [
    "import matplotlib.ticker as mtick\n",
    "\n",
    "df = pd.DataFrame({'Germany':cars_year_count_de['count'].div(len(cars_de))*100},\n",
    "                     index=(cars_year_count_de.index))\n",
    "ax = df.plot.bar(rot=0, figsize=(12, 5))\n",
    "ax.yaxis.set_major_formatter(mtick.PercentFormatter())"
   ]
  },
  {
   "cell_type": "code",
   "execution_count": 331,
   "metadata": {},
   "outputs": [
    {
     "data": {
      "image/png": "[encoded data removed]",
      "text/plain": [
       "<Figure size 864x360 with 1 Axes>"
      ]
     },
     "metadata": {},
     "output_type": "display_data"
    }
   ],
   "source": [
    "df = pd.DataFrame({'Poland':cars_year_count_pl['count'].div(len(cars_pl))*100},\n",
    "                     index=(cars_year_count_pl.index))\n",
    "ax = df.plot.bar(rot=0, figsize=(12, 5))\n",
    "ax.yaxis.set_major_formatter(mtick.PercentFormatter())"
   ]
  },
  {
   "cell_type": "code",
   "execution_count": 332,
   "metadata": {},
   "outputs": [
    {
     "data": {
      "image/png": "[encoded data removed]",
      "text/plain": [
       "<Figure size 864x360 with 1 Axes>"
      ]
     },
     "metadata": {},
     "output_type": "display_data"
    }
   ],
   "source": [
    "df = pd.DataFrame({'The USA':cars_year_count_us['count'].div(len(cars_us))*100},\n",
    "                     index=(cars_year_count_us.index))\n",
    "ax = df.plot.bar(rot=0, figsize=(12, 5))\n",
    "ax.yaxis.set_major_formatter(mtick.PercentFormatter())"
   ]
  },
  {
   "cell_type": "code",
   "execution_count": 334,
   "metadata": {},
   "outputs": [
    {
     "data": {
      "image/png": "[encoded data removed]",
      "text/plain": [
       "<Figure size 1152x360 with 1 Axes>"
      ]
     },
     "metadata": {},
     "output_type": "display_data"
    }
   ],
   "source": [
    "df = pd.DataFrame({'The Netherlands':cars_year_count_nl['count'].div(len(cars_nl))*100},\n",
    "                     index=(cars_year_count_nl.index))\n",
    "ax = df.plot.bar(rot=0, figsize=(16, 5))\n",
    "ax.yaxis.set_major_formatter(mtick.PercentFormatter())"
   ]
  },
  {
   "cell_type": "code",
   "execution_count": 336,
   "metadata": {},
   "outputs": [
    {
     "data": {
      "image/png": "[encoded data removed]",
      "text/plain": [
       "<Figure size 1008x360 with 1 Axes>"
      ]
     },
     "metadata": {},
     "output_type": "display_data"
    }
   ],
   "source": [
    "df = pd.DataFrame({'UK':cars_year_count_uk['count'].div(len(cars_uk))*100},\n",
    "                     index=(cars_year_count_uk.index))\n",
    "ax = df.plot.bar(rot=0, figsize=(14, 5))\n",
    "ax.yaxis.set_major_formatter(mtick.PercentFormatter())"
   ]
  },
  {
   "cell_type": "code",
   "execution_count": 353,
   "metadata": {},
   "outputs": [],
   "source": [
    "merged_years = []\n",
    "df_tabs = [cars_year_count_de, cars_year_count_nl, cars_year_count_pl, cars_year_count_uk, cars_year_count_us]\n",
    "\n",
    "for df_tab in df_tabs:\n",
    "    for year in df_tab.index:\n",
    "        if year not in merged_years:\n",
    "            try:\n",
    "                year = int(year)\n",
    "            except: break\n",
    "            if year > 1900:\n",
    "                merged_years.append(int(year))\n",
    "            \n",
    "merged_years.sort()"
   ]
  },
  {
   "cell_type": "code",
   "execution_count": 359,
   "metadata": {},
   "outputs": [
    {
     "data": {
      "image/png": "[encoded data removed]",
      "text/plain": [
       "<Figure size 1296x360 with 1 Axes>"
      ]
     },
     "metadata": {},
     "output_type": "display_data"
    }
   ],
   "source": [
    "df = pd.DataFrame({'Poland':cars_year_count_pl['count'].div(len(cars_nl))*100,\n",
    "                        'USA':cars_year_count_us['count'].div(len(cars_nl))*100,\n",
    "                       'UK':cars_year_count_uk['count'].div(len(cars_nl))*100,\n",
    "                       'The Netherlands':cars_year_count_nl['count'].div(len(cars_nl))*100,\n",
    "                       'Germany':cars_year_count_de['count'].div(len(cars_nl))*100},\n",
    "                     index=merged_years[:16])\n",
    "ax = df.plot.bar(rot=0, figsize=(18, 5))\n",
    "ax.yaxis.set_major_formatter(mtick.PercentFormatter())"
   ]
  },
  {
   "cell_type": "code",
   "execution_count": 362,
   "metadata": {},
   "outputs": [
    {
     "data": {
      "image/png": "[encoded data removed]",
      "text/plain": [
       "<Figure size 1296x360 with 1 Axes>"
      ]
     },
     "metadata": {},
     "output_type": "display_data"
    }
   ],
   "source": [
    "df = pd.DataFrame({'Poland':cars_year_count_pl['count'].div(len(cars_nl))*100,\n",
    "                        'USA':cars_year_count_us['count'].div(len(cars_nl))*100,\n",
    "                       'UK':cars_year_count_uk['count'].div(len(cars_nl))*100,\n",
    "                       'The Netherlands':cars_year_count_nl['count'].div(len(cars_nl))*100,\n",
    "                       'Germany':cars_year_count_de['count'].div(len(cars_nl))*100},\n",
    "                     index=merged_years[16:])\n",
    "ax = df.plot.bar(rot=0, figsize=(18, 5))\n",
    "ax.yaxis.set_major_formatter(mtick.PercentFormatter())"
   ]
  },
  {
   "cell_type": "code",
   "execution_count": null,
   "metadata": {},
   "outputs": [],
   "source": []
  }
 ],
 "metadata": {
  "kernelspec": {
   "display_name": "Python 3",
   "language": "python",
   "name": "python3"
  },
  "language_info": {
   "codemirror_mode": {
    "name": "ipython",
    "version": 3
   },
   "file_extension": ".py",
   "mimetype": "text/x-python",
   "name": "python",
   "nbconvert_exporter": "python",
   "pygments_lexer": "ipython3",
   "version": "3.7.4"
  }
 },
 "nbformat": 4,
 "nbformat_minor": 2
}
