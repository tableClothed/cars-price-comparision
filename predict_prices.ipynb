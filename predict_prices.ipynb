{
 "cells": [
  {
   "cell_type": "code",
   "execution_count": 126,
   "metadata": {},
   "outputs": [],
   "source": [
    "import seaborn as sns\n",
    "import matplotlib.pyplot as plt\n",
    "import numpy as np\n",
    "import os\n",
    "import pandas as pd\n",
    "from matplotlib import rcParams"
   ]
  },
  {
   "cell_type": "code",
   "execution_count": 127,
   "metadata": {},
   "outputs": [],
   "source": [
    "rcParams[\"figure.figsize\"] = 6, 6\n",
    "sns.set(color_codes=True)"
   ]
  },
  {
   "cell_type": "code",
   "execution_count": 128,
   "metadata": {},
   "outputs": [
    {
     "data": {
      "text/html": [
       "<div>\n",
       "<style scoped>\n",
       "    .dataframe tbody tr th:only-of-type {\n",
       "        vertical-align: middle;\n",
       "    }\n",
       "\n",
       "    .dataframe tbody tr th {\n",
       "        vertical-align: top;\n",
       "    }\n",
       "\n",
       "    .dataframe thead th {\n",
       "        text-align: right;\n",
       "    }\n",
       "</style>\n",
       "<table border=\"1\" class=\"dataframe\">\n",
       "  <thead>\n",
       "    <tr style=\"text-align: right;\">\n",
       "      <th></th>\n",
       "      <th>name</th>\n",
       "      <th>mark</th>\n",
       "      <th>year</th>\n",
       "      <th>mileage</th>\n",
       "      <th>engine_power</th>\n",
       "      <th>fuel</th>\n",
       "      <th>consumption</th>\n",
       "      <th>ecology</th>\n",
       "      <th>gearbox</th>\n",
       "      <th>country</th>\n",
       "      <th>engine_size</th>\n",
       "      <th>accidents</th>\n",
       "      <th>exterior</th>\n",
       "      <th>interior</th>\n",
       "      <th>price</th>\n",
       "    </tr>\n",
       "  </thead>\n",
       "  <tbody>\n",
       "    <tr>\n",
       "      <th>0</th>\n",
       "      <td>ford focus</td>\n",
       "      <td>ford</td>\n",
       "      <td>1999</td>\n",
       "      <td>200900.0</td>\n",
       "      <td>0.205934</td>\n",
       "      <td>Gasoline</td>\n",
       "      <td>7.00</td>\n",
       "      <td>166.000000</td>\n",
       "      <td>Manual</td>\n",
       "      <td>Germany</td>\n",
       "      <td>0.0</td>\n",
       "      <td>0.205934</td>\n",
       "      <td>unknown</td>\n",
       "      <td>unknown</td>\n",
       "      <td>490.0</td>\n",
       "    </tr>\n",
       "    <tr>\n",
       "      <th>1</th>\n",
       "      <td>opel vectra</td>\n",
       "      <td>opel</td>\n",
       "      <td>1998</td>\n",
       "      <td>199890.0</td>\n",
       "      <td>0.205934</td>\n",
       "      <td>Gasoline</td>\n",
       "      <td>6.65</td>\n",
       "      <td>162.959621</td>\n",
       "      <td>Manual</td>\n",
       "      <td>Germany</td>\n",
       "      <td>0.0</td>\n",
       "      <td>0.205934</td>\n",
       "      <td>unknown</td>\n",
       "      <td>unknown</td>\n",
       "      <td>490.0</td>\n",
       "    </tr>\n",
       "    <tr>\n",
       "      <th>2</th>\n",
       "      <td>ford fiesta</td>\n",
       "      <td>ford</td>\n",
       "      <td>2000</td>\n",
       "      <td>189137.0</td>\n",
       "      <td>0.205934</td>\n",
       "      <td>Gasoline</td>\n",
       "      <td>6.65</td>\n",
       "      <td>162.959621</td>\n",
       "      <td>Manual</td>\n",
       "      <td>Germany</td>\n",
       "      <td>0.0</td>\n",
       "      <td>0.205934</td>\n",
       "      <td>unknown</td>\n",
       "      <td>unknown</td>\n",
       "      <td>499.0</td>\n",
       "    </tr>\n",
       "    <tr>\n",
       "      <th>3</th>\n",
       "      <td>renault clio</td>\n",
       "      <td>renault</td>\n",
       "      <td>2004</td>\n",
       "      <td>186500.0</td>\n",
       "      <td>0.205934</td>\n",
       "      <td>Gasoline</td>\n",
       "      <td>5.90</td>\n",
       "      <td>139.000000</td>\n",
       "      <td>Manual</td>\n",
       "      <td>Germany</td>\n",
       "      <td>0.0</td>\n",
       "      <td>0.205934</td>\n",
       "      <td>unknown</td>\n",
       "      <td>unknown</td>\n",
       "      <td>500.0</td>\n",
       "    </tr>\n",
       "    <tr>\n",
       "      <th>4</th>\n",
       "      <td>audi a4</td>\n",
       "      <td>audi</td>\n",
       "      <td>1996</td>\n",
       "      <td>195000.0</td>\n",
       "      <td>0.205934</td>\n",
       "      <td>Gasoline</td>\n",
       "      <td>6.65</td>\n",
       "      <td>162.959621</td>\n",
       "      <td>Manual</td>\n",
       "      <td>Germany</td>\n",
       "      <td>0.0</td>\n",
       "      <td>0.205934</td>\n",
       "      <td>unknown</td>\n",
       "      <td>unknown</td>\n",
       "      <td>590.0</td>\n",
       "    </tr>\n",
       "  </tbody>\n",
       "</table>\n",
       "</div>"
      ],
      "text/plain": [
       "           name     mark  year   mileage  engine_power      fuel  consumption  \\\n",
       "0    ford focus     ford  1999  200900.0      0.205934  Gasoline         7.00   \n",
       "1   opel vectra     opel  1998  199890.0      0.205934  Gasoline         6.65   \n",
       "2   ford fiesta     ford  2000  189137.0      0.205934  Gasoline         6.65   \n",
       "3  renault clio  renault  2004  186500.0      0.205934  Gasoline         5.90   \n",
       "4       audi a4     audi  1996  195000.0      0.205934  Gasoline         6.65   \n",
       "\n",
       "      ecology gearbox  country  engine_size  accidents exterior interior  \\\n",
       "0  166.000000  Manual  Germany          0.0   0.205934  unknown  unknown   \n",
       "1  162.959621  Manual  Germany          0.0   0.205934  unknown  unknown   \n",
       "2  162.959621  Manual  Germany          0.0   0.205934  unknown  unknown   \n",
       "3  139.000000  Manual  Germany          0.0   0.205934  unknown  unknown   \n",
       "4  162.959621  Manual  Germany          0.0   0.205934  unknown  unknown   \n",
       "\n",
       "   price  \n",
       "0  490.0  \n",
       "1  490.0  \n",
       "2  499.0  \n",
       "3  500.0  \n",
       "4  590.0  "
      ]
     },
     "execution_count": 128,
     "metadata": {},
     "output_type": "execute_result"
    }
   ],
   "source": [
    "df = pd.read_csv(\"csv/data_no_na.csv\")\n",
    "df.head()"
   ]
  },
  {
   "cell_type": "code",
   "execution_count": 129,
   "metadata": {},
   "outputs": [],
   "source": [
    "df.interior = df.interior.str.replace(\" \", \"\")\n",
    "df.exterior = df.exterior.str.replace(\" \", \"\")\n",
    "df.loc[df.mark == \"vã¤derstad\", \"mark\"] = \"vaderstad\""
   ]
  },
  {
   "cell_type": "code",
   "execution_count": 130,
   "metadata": {},
   "outputs": [],
   "source": [
    "from sklearn import metrics\n",
    "from sklearn.model_selection import train_test_split\n",
    "\n",
    "X = df.drop([\"price\", \"name\"], axis=1).copy()\n",
    "y = df.price.values.copy()"
   ]
  },
  {
   "cell_type": "code",
   "execution_count": 131,
   "metadata": {},
   "outputs": [],
   "source": [
    "x_train, x_test, y_train, y_test= train_test_split(X, y, test_size=0.2)"
   ]
  },
  {
   "cell_type": "code",
   "execution_count": 132,
   "metadata": {},
   "outputs": [],
   "source": [
    "from sklearn.compose import ColumnTransformer\n",
    "from sklearn import preprocessing\n",
    "\n",
    "categorical_cols = ['mark', 'fuel', 'gearbox', 'country', 'exterior', 'interior']\n",
    "\n",
    "temp = ColumnTransformer([('cat',\n",
    "                           preprocessing.OneHotEncoder(),\n",
    "                           categorical_cols)]).fit(X)\n",
    "cats = temp.named_transformers_['cat'].categories_\n",
    "cat_tr = preprocessing.OneHotEncoder(categories=cats, sparse=False)"
   ]
  },
  {
   "cell_type": "code",
   "execution_count": 133,
   "metadata": {},
   "outputs": [],
   "source": [
    "numerical_cols = ['year', 'mileage', 'engine_power', 'consumption', 'ecology', 'engine_size', 'accidents']\n",
    "num_tr = preprocessing.StandardScaler()"
   ]
  },
  {
   "cell_type": "code",
   "execution_count": 134,
   "metadata": {},
   "outputs": [
    {
     "data": {
      "text/plain": [
       "ColumnTransformer(n_jobs=None, remainder='drop', sparse_threshold=0.3,\n",
       "                  transformer_weights=None,\n",
       "                  transformers=[('num',\n",
       "                                 StandardScaler(copy=True, with_mean=True,\n",
       "                                                with_std=True),\n",
       "                                 ['year', 'mileage', 'engine_power',\n",
       "                                  'consumption', 'ecology', 'engine_size',\n",
       "                                  'accidents']),\n",
       "                                ('cat',\n",
       "                                 OneHotEncoder(categories=[array(['acura', 'alfa', 'aston', 'audi', 'audt', 'bentley', 'bmw',\n",
       "       'bu...\n",
       "       'United States'], dtype=object),\n",
       "                                                           array(['black', 'blue', 'brown', 'gold', 'gray', 'green', 'red', 'silver',\n",
       "       'tan', 'unknown', 'white'], dtype=object),\n",
       "                                                           array(['beige', 'black', 'brown', 'gray', 'red', 'unknown'], dtype=object)],\n",
       "                                               drop=None,\n",
       "                                               dtype=<class 'numpy.float64'>,\n",
       "                                               handle_unknown='error',\n",
       "                                               sparse=False),\n",
       "                                 ['mark', 'fuel', 'gearbox', 'country',\n",
       "                                  'exterior', 'interior'])],\n",
       "                  verbose=False)"
      ]
     },
     "execution_count": 134,
     "metadata": {},
     "output_type": "execute_result"
    }
   ],
   "source": [
    "data_tr = ColumnTransformer([('num', num_tr, numerical_cols), ('cat', cat_tr, categorical_cols)])\n",
    "data_tr"
   ]
  },
  {
   "cell_type": "code",
   "execution_count": 135,
   "metadata": {},
   "outputs": [],
   "source": [
    "from sklearn import linear_model\n",
    "from sklearn.neighbors import KNeighborsRegressor\n",
    "from sklearn import ensemble\n",
    "\n",
    "models = [\n",
    "          KNeighborsRegressor(),\n",
    "          linear_model.Lasso(),\n",
    "          linear_model.Ridge(),\n",
    "          linear_model.ElasticNet(),\n",
    "          ensemble.GradientBoostingRegressor(),\n",
    "          ensemble.RandomForestRegressor(),\n",
    "          ensemble.ExtraTreesRegressor()\n",
    "]\n",
    "\n",
    "models_names = ['K-nn','Lasso','Ridge','Elastic','Boost','Forest','Extra']"
   ]
  },
  {
   "cell_type": "code",
   "execution_count": 136,
   "metadata": {},
   "outputs": [
    {
     "name": "stderr",
     "output_type": "stream",
     "text": [
      "R:\\Work\\Anacond\\lib\\site-packages\\sklearn\\linear_model\\_coordinate_descent.py:476: ConvergenceWarning: Objective did not converge. You might want to increase the number of iterations. Duality gap: 6564428051.792168, tolerance: 23474144.225803845\n",
      "  positive)\n"
     ]
    }
   ],
   "source": [
    "from sklearn.pipeline import Pipeline\n",
    "\n",
    "scores, mse, mae = [], [], []\n",
    "\n",
    "for model in models:\n",
    "    pipe = Pipeline([\n",
    "        (\"features\", data_tr),\n",
    "        (\"model\", model)\n",
    "    ])\n",
    "    fits = pipe.fit(x_train, y_train)\n",
    "    scores.append(metrics.r2_score(y_test, fits.predict(x_test)))\n",
    "    mse.append(metrics.mean_squared_error(y_test, fits.predict(x_test)))    \n",
    "    mae.append(metrics.mean_absolute_error(y_test, fits.predict(x_test)))    "
   ]
  },
  {
   "cell_type": "code",
   "execution_count": 154,
   "metadata": {},
   "outputs": [
    {
     "data": {
      "image/png": "[encoded data removed]",
      "text/plain": [
       "<Figure size 1296x432 with 3 Axes>"
      ]
     },
     "metadata": {},
     "output_type": "display_data"
    }
   ],
   "source": [
    "fig, (ax1, ax2, ax3) = plt.subplots(1, 3, figsize = (18, 6))\n",
    "plt.title(\"Scoring metrics\")\n",
    "ax1.set_title(\"R^2\")\n",
    "ax1.bar(models_names, scores)\n",
    "ax1.set_title(\"MSE\")\n",
    "ax2.bar(models_names, mse)\n",
    "ax1.set_title(\"MAE\")\n",
    "ax3.bar(models_names, mae)\n",
    "plt.show()"
   ]
  },
  {
   "cell_type": "code",
   "execution_count": 138,
   "metadata": {},
   "outputs": [
    {
     "data": {
      "text/html": [
       "<div>\n",
       "<style scoped>\n",
       "    .dataframe tbody tr th:only-of-type {\n",
       "        vertical-align: middle;\n",
       "    }\n",
       "\n",
       "    .dataframe tbody tr th {\n",
       "        vertical-align: top;\n",
       "    }\n",
       "\n",
       "    .dataframe thead th {\n",
       "        text-align: right;\n",
       "    }\n",
       "</style>\n",
       "<table border=\"1\" class=\"dataframe\">\n",
       "  <thead>\n",
       "    <tr style=\"text-align: right;\">\n",
       "      <th></th>\n",
       "      <th>model</th>\n",
       "      <th>mse</th>\n",
       "      <th>mae</th>\n",
       "      <th>score</th>\n",
       "    </tr>\n",
       "  </thead>\n",
       "  <tbody>\n",
       "    <tr>\n",
       "      <th>0</th>\n",
       "      <td>K-nn</td>\n",
       "      <td>93328406.9</td>\n",
       "      <td>4989.68</td>\n",
       "      <td>60.52</td>\n",
       "    </tr>\n",
       "    <tr>\n",
       "      <th>1</th>\n",
       "      <td>Lasso</td>\n",
       "      <td>93530232.2</td>\n",
       "      <td>5735.15</td>\n",
       "      <td>60.43</td>\n",
       "    </tr>\n",
       "    <tr>\n",
       "      <th>2</th>\n",
       "      <td>Ridge</td>\n",
       "      <td>89259967.4</td>\n",
       "      <td>5649.38</td>\n",
       "      <td>62.24</td>\n",
       "    </tr>\n",
       "    <tr>\n",
       "      <th>3</th>\n",
       "      <td>Elastic</td>\n",
       "      <td>149228815.5</td>\n",
       "      <td>6690.75</td>\n",
       "      <td>36.87</td>\n",
       "    </tr>\n",
       "    <tr>\n",
       "      <th>4</th>\n",
       "      <td>Boost</td>\n",
       "      <td>40526239.1</td>\n",
       "      <td>3585.85</td>\n",
       "      <td>82.85</td>\n",
       "    </tr>\n",
       "    <tr>\n",
       "      <th>5</th>\n",
       "      <td>Forest</td>\n",
       "      <td>37716685.4</td>\n",
       "      <td>3210.68</td>\n",
       "      <td>84.04</td>\n",
       "    </tr>\n",
       "    <tr>\n",
       "      <th>6</th>\n",
       "      <td>Extra</td>\n",
       "      <td>47007353.5</td>\n",
       "      <td>3524.95</td>\n",
       "      <td>80.11</td>\n",
       "    </tr>\n",
       "  </tbody>\n",
       "</table>\n",
       "</div>"
      ],
      "text/plain": [
       "     model          mse      mae  score\n",
       "0     K-nn   93328406.9  4989.68  60.52\n",
       "1    Lasso   93530232.2  5735.15  60.43\n",
       "2    Ridge   89259967.4  5649.38  62.24\n",
       "3  Elastic  149228815.5  6690.75  36.87\n",
       "4    Boost   40526239.1  3585.85  82.85\n",
       "5   Forest   37716685.4  3210.68  84.04\n",
       "6    Extra   47007353.5  3524.95  80.11"
      ]
     },
     "execution_count": 138,
     "metadata": {},
     "output_type": "execute_result"
    }
   ],
   "source": [
    "df_scores = pd.DataFrame(zip(models_names, mse, mae, scores), columns=[\"model\", \"mse\", \"mae\", \"score\"])\n",
    "df_scores.score = round(df_scores.score * 100, 2)\n",
    "df_scores.mse = round(df_scores.mse, 1)\n",
    "df_scores.mae = round(df_scores.mae, 2)\n",
    "df_scores"
   ]
  },
  {
   "cell_type": "code",
   "execution_count": 139,
   "metadata": {},
   "outputs": [
    {
     "data": {
      "text/plain": [
       "0.8407400680292112"
      ]
     },
     "execution_count": 139,
     "metadata": {},
     "output_type": "execute_result"
    }
   ],
   "source": [
    "model = Pipeline([\n",
    "    (\"features\", data_tr),\n",
    "    (\"model\", ensemble.RandomForestRegressor(n_estimators=100, min_samples_leaf=1))\n",
    "])\n",
    "\n",
    "model.fit(x_train, y_train).score(x_test, y_test)"
   ]
  },
  {
   "cell_type": "markdown",
   "metadata": {},
   "source": [
    "## Model tuning"
   ]
  },
  {
   "cell_type": "code",
   "execution_count": 141,
   "metadata": {},
   "outputs": [
    {
     "data": {
      "text/plain": [
       "{'model__min_samples_leaf': 1, 'model__n_estimators': 100}"
      ]
     },
     "execution_count": 141,
     "metadata": {},
     "output_type": "execute_result"
    }
   ],
   "source": [
    "from sklearn.model_selection import GridSearchCV\n",
    "\n",
    "params = {\n",
    "    'model__n_estimators':[10, 20, 30, 50, 100],\n",
    "    'model__min_samples_leaf':[1, 2]\n",
    "}\n",
    "\n",
    "grids = GridSearchCV(model, param_grid=params, cv=4).fit(x_train, y_train)\n",
    "\n",
    "grids.best_params_"
   ]
  },
  {
   "cell_type": "markdown",
   "metadata": {},
   "source": [
    "## Validation"
   ]
  },
  {
   "cell_type": "code",
   "execution_count": 153,
   "metadata": {},
   "outputs": [
    {
     "data": {
      "image/png": "[encoded data removed]",
      "text/plain": [
       "<Figure size 432x432 with 1 Axes>"
      ]
     },
     "metadata": {},
     "output_type": "display_data"
    }
   ],
   "source": [
    "from sklearn.model_selection import cross_validate\n",
    "\n",
    "test_scores = []\n",
    "\n",
    "for i in range(2, 7):\n",
    "    cross_val = cross_validate(model, X, y=y, cv=i, return_train_score=True)\n",
    "    test_scores.append(cross_val[\"test_score\"].mean().round(4) * 100)\n",
    "\n",
    "plt.title(\"Optimal K\")\n",
    "plt.bar(range(2, 7), test_scores)\n",
    "plt.show()"
   ]
  },
  {
   "cell_type": "code",
   "execution_count": 149,
   "metadata": {},
   "outputs": [
    {
     "name": "stdout",
     "output_type": "stream",
     "text": [
      "Average train score:  96.86 %\n",
      "Average test score:  55.26 %\n"
     ]
    }
   ],
   "source": [
    "cross_val = cross_validate(model, X, y=y, cv=4, return_train_score=True)\n",
    "\n",
    "print(\"Average train score: \", cross_val[\"train_score\"].mean().round(4) * 100, \"%\")\n",
    "print(\"Average test score: \", cross_val[\"test_score\"].mean().round(4) * 100,\"%\")"
   ]
  },
  {
   "cell_type": "markdown",
   "metadata": {},
   "source": [
    "The model is significally overfitting. A solution could be expanding the dataset and then we could try hypertuning the tree model."
   ]
  },
  {
   "cell_type": "code",
   "execution_count": null,
   "metadata": {},
   "outputs": [],
   "source": []
  }
 ],
 "metadata": {
  "kernelspec": {
   "display_name": "Python 3",
   "language": "python",
   "name": "python3"
  },
  "language_info": {
   "codemirror_mode": {
    "name": "ipython",
    "version": 3
   },
   "file_extension": ".py",
   "mimetype": "text/x-python",
   "name": "python",
   "nbconvert_exporter": "python",
   "pygments_lexer": "ipython3",
   "version": "3.7.6"
  }
 },
 "nbformat": 4,
 "nbformat_minor": 4
}
